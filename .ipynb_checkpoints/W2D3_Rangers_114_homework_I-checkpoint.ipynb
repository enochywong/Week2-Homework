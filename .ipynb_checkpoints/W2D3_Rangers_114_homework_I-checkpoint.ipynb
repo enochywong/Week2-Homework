{
 "cells": [
  {
   "cell_type": "markdown",
   "metadata": {},
   "source": [
    "# Dictionaries & Sets"
   ]
  },
  {
   "cell_type": "markdown",
   "metadata": {},
   "source": [
    "## Tasks Today:\n",
    "\n",
    "1) Dictionary <br>\n",
    " &nbsp;&nbsp;&nbsp;&nbsp; a) Declaring (key, value) <br>\n",
    " &nbsp;&nbsp;&nbsp;&nbsp; b) Accessing Values <br>\n",
    " &nbsp;&nbsp;&nbsp;&nbsp; ------ Exercise #1 - Print the eye color of each person in a double nested dict <br>\n",
    " &nbsp;&nbsp;&nbsp;&nbsp; c) Adding New Pairs <br>\n",
    " &nbsp;&nbsp;&nbsp;&nbsp; d) Modifying Values <br>\n",
    " &nbsp;&nbsp;&nbsp;&nbsp; e) Removing Key, Value Pairs <br>\n",
    " &nbsp;&nbsp;&nbsp;&nbsp; f) Looping a Dictionary <br>\n",
    " &nbsp;&nbsp;&nbsp;&nbsp; g) Looping Only Keys <br>\n",
    " &nbsp;&nbsp;&nbsp;&nbsp; h) Looping Only Values <br>\n",
    " &nbsp;&nbsp;&nbsp;&nbsp; ------ Exercise #2 - Create a program\n",
    " that Prints All Key Value Pairs within a print .format()  <br>\n",
    " &nbsp;&nbsp;&nbsp;&nbsp; i) sorted() <br>\n",
    " &nbsp;&nbsp;&nbsp;&nbsp; j) Lists with Dictionaries <br>\n",
    " &nbsp;&nbsp;&nbsp;&nbsp; k) Dictionaries with Lists <br>\n",
    " &nbsp;&nbsp;&nbsp;&nbsp; l) Dictionaries with Dictionaries <br>\n",
    " &nbsp;&nbsp;&nbsp;&nbsp; ------ Exercise #3 - Write a Function that asks someone's name and address, and then stores that into a dictionary, which prints all names and addresses after they're done putting information in...  <br>\n",
    "2) Dictionaries vs. Lists (over time)<br>\n",
    "3) Set <br>\n",
    " &nbsp;&nbsp;&nbsp;&nbsp; a) Declaring <br>\n",
    " &nbsp;&nbsp;&nbsp;&nbsp; b) .add() <br>\n",
    " &nbsp;&nbsp;&nbsp;&nbsp; c) .remove() <br>\n",
    " &nbsp;&nbsp;&nbsp;&nbsp; d) .union() <br>\n",
    " &nbsp;&nbsp;&nbsp;&nbsp; e) .intersection() <br>\n",
    " &nbsp;&nbsp;&nbsp;&nbsp; f) .difference() <br>\n",
    " &nbsp;&nbsp;&nbsp;&nbsp; g) Frozen Set <br>\n",
    "4) Exercises <br>\n",
    " &nbsp;&nbsp;&nbsp;&nbsp; a) Build a Shopping Cart <br>\n",
    " &nbsp;&nbsp;&nbsp;&nbsp; b) Create Your Own Module <br>"
   ]
  },
  {
   "cell_type": "markdown",
   "metadata": {},
   "source": [
    "## Dictionary <br>\n",
    "<p>A collection of data with 'key:value' pairs. Dictionaries are ordered as of Python 3.6</p>"
   ]
  },
  {
   "cell_type": "markdown",
   "metadata": {},
   "source": [
    "##### Declaring (key, value)"
   ]
  },
  {
   "cell_type": "code",
   "execution_count": 4,
   "metadata": {},
   "outputs": [],
   "source": [
    "#keys always need to be unique\n",
    "#can you use intergers(numbers) or string as keys\n",
    "\n",
    "d_1 = {} #<-- empty dictionary\n",
    "\n",
    "# or\n",
    "\n",
    "d_2 = dict()\n",
    "\n",
    "# or\n",
    "# non-empty dictionary\n",
    "d_3 ={\n",
    "    \"Tom\": \"255 Main Street\",\n",
    "    \"Jerry\": \"256 Main Street\",\n",
    "    0: \"This is a zero\"\n",
    "}"
   ]
  },
  {
   "cell_type": "markdown",
   "metadata": {},
   "source": [
    "##### Accessing Values"
   ]
  },
  {
   "cell_type": "code",
   "execution_count": 5,
   "metadata": {},
   "outputs": [
    {
     "name": "stdout",
     "output_type": "stream",
     "text": [
      "255 Main Street\n",
      "256 Main Street\n",
      "This is a zero\n"
     ]
    }
   ],
   "source": [
    "#dict[key]\n",
    "print(d_3[\"Tom\"])\n",
    "print(d_3[\"Jerry\"])\n",
    "print(d_3[0])"
   ]
  },
  {
   "cell_type": "code",
   "execution_count": 3,
   "metadata": {},
   "outputs": [
    {
     "name": "stdout",
     "output_type": "stream",
     "text": [
      "dragon status\n"
     ]
    }
   ],
   "source": [
    "#example of non-unique keys\n",
    "\n",
    "d_4 = {\n",
    "    \"name\": \"Mega Man\",\n",
    "    \"name\": \"dragon status\"\n",
    "}\n",
    "print(d_4[\"name\"])"
   ]
  },
  {
   "cell_type": "markdown",
   "metadata": {},
   "source": [
    "## In-Class Exercise #1 - Print a formatted statement from the dictionary below <br>\n",
    "<p>The output should be '2018 Chevrolet Silverado'</p>"
   ]
  },
  {
   "cell_type": "code",
   "execution_count": 15,
   "metadata": {},
   "outputs": [
    {
     "name": "stdout",
     "output_type": "stream",
     "text": [
      "2018Chevrolet\n"
     ]
    }
   ],
   "source": [
    "d_car = {\n",
    "    \"year\": 2018,\n",
    "    \"make\":\"Chevrolet\",\n",
    "    \"model\":\"Silverado\",    \n",
    "}\n",
    "\n",
    "print(str(d_car[\"year\"]) + d_car[\"make\"])\n"
   ]
  },
  {
   "cell_type": "code",
   "execution_count": 19,
   "metadata": {},
   "outputs": [
    {
     "name": "stdout",
     "output_type": "stream",
     "text": [
      "{'Tom': '255 Main Street', 'Jerry': '256 Main Street', 0: 'This is a zero', 'Spike': '257 Main Street', 'Tike': '257 Main Street'}\n",
      "{}\n",
      "{'beverage': 'water'}\n"
     ]
    }
   ],
   "source": []
  },
  {
   "cell_type": "code",
   "execution_count": null,
   "metadata": {},
   "outputs": [],
   "source": []
  },
  {
   "cell_type": "markdown",
   "metadata": {},
   "source": [
    "##### Adding New Pairs"
   ]
  },
  {
   "cell_type": "code",
   "execution_count": 22,
   "metadata": {},
   "outputs": [
    {
     "name": "stdout",
     "output_type": "stream",
     "text": [
      "{'Tom': '255 Main Street', 'Jerry': '256 Main Street', 0: 'This is a zero', 'Spike': '257 Main Street', 'Tike': '257 Main Street'}\n",
      "{}\n",
      "{'beverage': 'water'}\n"
     ]
    }
   ],
   "source": [
    "#dict[key] = value\n",
    "d_3 ={\n",
    "    \"Tom\": \"255 Main Street\",\n",
    "    \"Jerry\": \"256 Main Street\",\n",
    "    0: \"This is a zero\"\n",
    "}\n",
    "\n",
    "d_3[\"Spike\"] = \"257 Main Street\"\n",
    "d_3[\"Tike\"] = \"257 Main Street\"\n",
    "\n",
    "print(d_3)\n",
    "\n",
    "d_4 = {}\n",
    "print(d_4)\n",
    "\n",
    "d_4['beverage'] = 'water'\n",
    "print(d_4)"
   ]
  },
  {
   "cell_type": "markdown",
   "metadata": {},
   "source": [
    "##### Modifying Values"
   ]
  },
  {
   "cell_type": "code",
   "execution_count": 26,
   "metadata": {},
   "outputs": [
    {
     "name": "stdout",
     "output_type": "stream",
     "text": [
      "{'beverage': 'coffee'}\n",
      "{'beverage': 'coffee'}\n",
      "{'beverage': 'coffee', 'beverage2': 'topo chico'}\n"
     ]
    }
   ],
   "source": [
    "#dict[key] = \"new value\" if key already exists in dictionary \n",
    "\n",
    "print(d_4)\n",
    "d_4['beverage'] = 'coffee'\n",
    "print(d_4)\n",
    "\n",
    "drink = \"belle vie\"\n",
    "\n",
    "if \"beverage2\" in d_4:\n",
    "    d_4[\"beverage2\"] = drink\n",
    "else:\n",
    "    d_4['beverage2'] = 'topo chico'\n",
    "    \n",
    "print(d_4)"
   ]
  },
  {
   "cell_type": "code",
   "execution_count": 27,
   "metadata": {},
   "outputs": [
    {
     "name": "stdout",
     "output_type": "stream",
     "text": [
      "{'Tom': '255 Main Street', 'Jerry': '255 Main Street', 0: 'This is a zero', 'Spike': '257 Main Street', 'Tike': '257 Main Street'}\n"
     ]
    }
   ],
   "source": [
    "d_3[\"Jerry\"] = '255 Main Street'\n",
    "print(d_3)"
   ]
  },
  {
   "cell_type": "markdown",
   "metadata": {},
   "source": [
    "##### Removing Key, Value Pairs"
   ]
  },
  {
   "cell_type": "code",
   "execution_count": 31,
   "metadata": {},
   "outputs": [
    {
     "name": "stdout",
     "output_type": "stream",
     "text": [
      "{'Tom': '255 Main Street', 'Jerry': '255 Main Street', 'Spike': '257 Main Street', 'Tike': '257 Main Street'}\n",
      "{'Tom': '255 Main Street', 'Jerry': '255 Main Street', 'Spike': '257 Main Street', 'Tike': '257 Main Street'}\n"
     ]
    }
   ],
   "source": [
    "# del dict[key]\n",
    "# del(my_list[0]) or del dict[key] or del my_list[0]\n",
    "\n",
    "print(d_3)\n",
    "\n",
    "del d_3[0]\n",
    "\n"
   ]
  },
  {
   "cell_type": "markdown",
   "metadata": {},
   "source": [
    "##### Looping a Dictionary"
   ]
  },
  {
   "cell_type": "code",
   "execution_count": 38,
   "metadata": {},
   "outputs": [
    {
     "name": "stdout",
     "output_type": "stream",
     "text": [
      "Tom lives at this address: 255 Main Street\n",
      "Jerry lives at this address: 255 Main Street\n",
      "Spike lives at this address: 257 Main Street\n",
      "Tike lives at this address: 257 Main Street\n",
      "\n",
      "\n",
      "Tom lives at this address: 255 Main Street\n",
      "Jerry lives at this address: 255 Main Street\n",
      "Spike lives at this address: 257 Main Street\n",
      "Tike lives at this address: 257 Main Street\n"
     ]
    }
   ],
   "source": [
    "#dict.items()\n",
    "\n",
    "for name, address in d_3.items():\n",
    "    print(f\"{name} lives at this address: {address}\")\n",
    "print(\"\\n\")\n",
    "for k, v in d_3.items():\n",
    "    print(f\"{k} lives at this address: {v}\")"
   ]
  },
  {
   "cell_type": "code",
   "execution_count": 44,
   "metadata": {},
   "outputs": [
    {
     "name": "stdout",
     "output_type": "stream",
     "text": [
      "0 Desiree\n",
      "1 Chuck\n",
      "2 Hyun-Tae\n",
      "3 Alex\n",
      "4 Abdel\n",
      "{0: 'Desiree', 1: 'Chuck', 2: 'Hyun-Tae', 3: 'Alex', 4: 'Abdel'}\n",
      "{0: 'Desiree', 1: 'Chuck', 2: 'Hyun-Tae', 3: 'Alex', 4: 'Abdel'}\n"
     ]
    }
   ],
   "source": [
    "# enumerating a list and adding it to a dictionary \n",
    "my_list = [\"Desiree\", \"Chuck\", \"Hyun-Tae\", \"Alex\", \"Abdel\"]\n",
    "names_dict = {}\n",
    "\n",
    "for i, name in enumerate(my_list):\n",
    "    names_dict[i] = name\n",
    "\n",
    "for k, v in names_dict.items():\n",
    "    print(k,v)\n",
    "print(names_dict)\n",
    "\n",
    "#dict comprehension\n",
    "name_dict2 = {k:v for k, v in enumerate(my_list)} \n",
    "print(name_dict2)"
   ]
  },
  {
   "cell_type": "markdown",
   "metadata": {},
   "source": [
    "##### Looping Only Keys"
   ]
  },
  {
   "cell_type": "code",
   "execution_count": 55,
   "metadata": {},
   "outputs": [
    {
     "name": "stdout",
     "output_type": "stream",
     "text": [
      "Tom\n",
      "Jerry\n",
      "Spike\n",
      "Tike\n",
      "\n",
      "\n",
      "Tom\n",
      "Jerry\n",
      "Spike\n",
      "Tike\n"
     ]
    }
   ],
   "source": [
    "#dict.keys()\n",
    "d_3 = {'Tom': '255 Main Street', 'Jerry': '255 Main Street', 'Spike': '257 Main Street', 'Tike': '257 Main Street'}\n",
    "\n",
    "for key in d_3:\n",
    "    print(key)\n",
    "\n",
    "print(\"\\n\")\n",
    "    \n",
    "for name in d_3.keys():\n",
    "    print(name)"
   ]
  },
  {
   "cell_type": "markdown",
   "metadata": {},
   "source": [
    "##### Looping Only Values"
   ]
  },
  {
   "cell_type": "code",
   "execution_count": 59,
   "metadata": {
    "scrolled": true
   },
   "outputs": [
    {
     "name": "stdout",
     "output_type": "stream",
     "text": [
      "Tom Lives here\n",
      "255 Main Street\n",
      "258 Main Street\n",
      "258 Main Street 606018\n"
     ]
    }
   ],
   "source": [
    "#dict.values()\n",
    "d_3 = {'Tom': '254 Main Street', 'Jerry': '255 Main Street', 'Spike': '258 Main Street', 'Tike': '257 Main Street'}\n",
    "\n",
    "# for address in d_3.values():\n",
    "#     print(address)\n",
    "    \n",
    "for address in d_3.values():\n",
    "    if address == \"254 Main Street\":\n",
    "        print(\"Tom Lives here\")\n",
    "    elif address == \"257 Main Street\":\n",
    "        d_3[\"Spike\"] = d_3[\"Spike\"] + ' 606018'\n",
    "        #\"247 Main Street\" + 60618\n",
    "        #address = \"257 Main Street\" + \" 60618\"\n",
    "        print(d_3[\"Spike\"])\n",
    "    else:\n",
    "        print(address)"
   ]
  },
  {
   "cell_type": "markdown",
   "metadata": {},
   "source": [
    "## In-Class Exercise #2 - Create a Function that Prints All Key Value Pairs within a formatted string  <br>\n",
    "<p><b>Output should be:</b><br>\n",
    "Max has blue eyes<br>\n",
    "Lilly has brown eyes<br>\n",
    "Barney has blue eyes<br>\n",
    "etc.\n",
    "</p>"
   ]
  },
  {
   "cell_type": "code",
   "execution_count": 65,
   "metadata": {},
   "outputs": [
    {
     "name": "stdout",
     "output_type": "stream",
     "text": [
      "Max has blue eyes\n",
      "Lilly has brown eyes\n",
      "Barney has green eyes\n",
      "Ted has purple eyes\n",
      "Sasuke has sharingan eyes\n"
     ]
    }
   ],
   "source": [
    "# use the dict below\n",
    "people = {\n",
    "    'Max' : 'blue',\n",
    "    'Lilly' : 'brown',\n",
    "    'Barney' : 'green',\n",
    "    'Ted' : 'purple',\n",
    "    'Sasuke' : 'sharingan'    \n",
    "} \n",
    "\n",
    "def print_names(dict):\n",
    "    for name, color in dict.items():\n",
    "        print(f\"{name} has {color} eyes\")\n",
    "\n",
    "print_names(people)"
   ]
  },
  {
   "cell_type": "markdown",
   "metadata": {},
   "source": [
    "##### sorted()"
   ]
  },
  {
   "cell_type": "code",
   "execution_count": 71,
   "metadata": {},
   "outputs": [
    {
     "name": "stdout",
     "output_type": "stream",
     "text": [
      "[('Barney', 'green'), ('Lilly', 'brown'), ('Max', 'blue'), ('Sasuke', 'sharingan'), ('Ted', 'purple')]\n",
      "green\n"
     ]
    }
   ],
   "source": [
    "# if we wrap dictionary with sorted() it returns a list of tuples sorted by key\n",
    "people = {\n",
    "    'Max' : 'blue',\n",
    "    'Lilly' : 'brown',\n",
    "    'Barney' : 'green',\n",
    "    'Ted' : 'purple',\n",
    "    'Sasuke' : 'sharingan'    \n",
    "} \n",
    "\n",
    "# print(\"Values\", sorted(people.values()))\n",
    "# print(\"Keys\", sorted(people.keys()))\n",
    "# print(\"Keys Values Pairs\", sorted(people.items()))\n",
    "\n",
    "sorted_items = sorted(people.items())\n",
    "print(sorted_items)\n",
    "\n",
    "#indexing into a list with iterables inside of it\n",
    "print(sorted_items[0][1])"
   ]
  },
  {
   "cell_type": "markdown",
   "metadata": {},
   "source": [
    "##### List with Dictionaries"
   ]
  },
  {
   "cell_type": "code",
   "execution_count": 76,
   "metadata": {},
   "outputs": [
    {
     "name": "stdout",
     "output_type": "stream",
     "text": [
      "Gaara\n",
      "Naruto\n",
      "{'leaf_village': 'Naruto', 'leaf_village2': 'Kakashi'}\n",
      "{'leaf_village': 'Naruto', 'leaf_village2': 'Kakashi'}\n"
     ]
    }
   ],
   "source": [
    "shinobi = [\"Shikamaru\", \"Gaara\", \"OctoPops\", {\"leaf_village\": \"Naruto\", \"leaf_village2\": \"Kakashi\"}]\n",
    "\n",
    "print(shinobi[1])\n",
    "print(shinobi[3]['leaf_village'])\n",
    "print(shinobi[3])\n",
    "print(shinobi[-1])"
   ]
  },
  {
   "cell_type": "code",
   "execution_count": 92,
   "metadata": {},
   "outputs": [
    {
     "name": "stdout",
     "output_type": "stream",
     "text": [
      "['Dave', 'Sandy', 'Tony', {'random_person1': 'Barb', 'random_person2': 'Bart'}, 'Tom']\n",
      "Barb\n",
      "{'random_person1': 'Barb', 'random_person2': 'Bart'}\n",
      "Bart\n"
     ]
    }
   ],
   "source": [
    "names = [\"Dave\", \"Sandy\", \"Tony\", {\"random_person1\": \"Barb\", \"random_person2\": \"Bart\"}, 'Tom']\n",
    "print(names)\n",
    "print(names[3][\"random_person1\"])\n",
    "\n",
    "random_people = names[3]\n",
    "print(random_people)\n",
    "print(random_people['random_person2'])"
   ]
  },
  {
   "cell_type": "markdown",
   "metadata": {},
   "source": [
    "##### Dictionaries with Lists"
   ]
  },
  {
   "cell_type": "code",
   "execution_count": 88,
   "metadata": {},
   "outputs": [
    {
     "name": "stdout",
     "output_type": "stream",
     "text": [
      "1\n",
      "90\n"
     ]
    }
   ],
   "source": [
    "# be careful when using numnbers as key so that they're not confused with indexes\n",
    "random_data = {\n",
    "    \"list_1\": [54, 65, 90],\n",
    "    \"names\": ['John', 'Laura', \"Bulbasaur\"] ,\n",
    "    1:[1,1,1,1]\n",
    "}\n",
    "print(random_data[1][1])\n",
    "print(random_data[\"list_1\"][2])"
   ]
  },
  {
   "cell_type": "code",
   "execution_count": 90,
   "metadata": {},
   "outputs": [
    {
     "name": "stdout",
     "output_type": "stream",
     "text": [
      "transform\n"
     ]
    }
   ],
   "source": [
    "ditto={\n",
    "    'abilities':[{'name':'transform'}, {'name':'another transform'}]\n",
    "}\n",
    "print(ditto['abilities'][0]['name'])"
   ]
  },
  {
   "cell_type": "markdown",
   "metadata": {},
   "source": [
    "##### Dictionaries with Dictionaries"
   ]
  },
  {
   "cell_type": "code",
   "execution_count": 101,
   "metadata": {
    "scrolled": true
   },
   "outputs": [
    {
     "name": "stdout",
     "output_type": "stream",
     "text": [
      "\n",
      "Here are all our favorite Foods!!! YAY!!\n",
      "\n",
      "Ryan's favorite foods are: \n",
      "Tacos\n",
      "Tortas\n",
      "Burritos\n",
      "Pie\n",
      "Brownies\n",
      "Chocolate Chip Cookies\n",
      "\n",
      "Alex's favorite foods are: \n",
      "Pupusas\n",
      "Tacos\n",
      "Fajitas\n",
      "Pastries\n",
      "Ice Cream\n",
      "Canollis\n",
      "Cheesecake\n",
      "Chantilly Cupcakes\n",
      "Cobbler\n",
      "Pie\n",
      "\n",
      "Ethan's favorite foods are: \n",
      "KGLW\n",
      "Uncle Spudd\n",
      "Your moms house\n",
      "MF DOOM\n",
      "Kendrick\n",
      "Andrae 3000\n",
      "\n",
      "Enoch's favorite foods are: \n",
      "Sushi\n",
      "Tempura\n",
      "Onigiri\n",
      "Cheesecake\n",
      "Applie Pie\n",
      "Yuzu Creme Brulee\n",
      "\n",
      "Htae's favorite foods are: \n",
      "Miso\n",
      "Shoyu\n",
      "Shin\n",
      "Dr.Pepper\n",
      "Water\n",
      "Boba tea\n",
      "\n",
      "Dez's favorite foods are: \n",
      "Sushi\n",
      "Ramen\n",
      "Pho\n",
      "Curry\n",
      "Sidecar\n",
      "Sk's\n",
      "Doughnuttery\n",
      "\n",
      "Dharti's favorite foods are: \n",
      "Paneer\n",
      "Rajma\n",
      "Naan\n",
      "Jalabi\n",
      "Mohanthal\n",
      "icecream\n",
      "\n",
      "Lyle's favorite foods are: \n",
      "airmax\n",
      "jordan\n",
      "cortez\n",
      "stansmiths\n",
      "promodel\n",
      "nmd\n",
      "\n",
      "Daniel's favorite foods are: \n",
      "garri\n",
      "fufu\n",
      "egusi\n",
      "rice\n",
      "beans\n",
      "eba\n",
      "\n",
      "Chuck's favorite foods are: \n",
      "Cheese_Burger\n",
      "Fries\n",
      "Coke\n",
      "Cheese_Cake\n",
      "Milk_Shake\n",
      "Cake\n",
      "\n",
      "Ben's favorite foods are: \n",
      "Tika Masala\n",
      "Naan\n",
      "Chapati\n",
      "Chicken Curry\n",
      "Fish Curry\n",
      "Cheesecake\n",
      "Empanadas\n",
      "Churros\n",
      "Ice Cream\n",
      "Mangonada\n",
      "\n",
      "Ewa's favorite foods are: \n",
      "Pizza\n",
      "Pasta\n",
      "Dessert\n",
      "Tacos\n",
      "Burritos\n",
      "Dessert\n",
      "\n",
      "Salim's favorite foods are: \n",
      "lent soup , kebaba , Gyro \n",
      "Baklava, basbousa ,maamoul\n",
      "Fajitas\n"
     ]
    }
   ],
   "source": [
    "food_dict = {\n",
    "    \"Ryan\": {\n",
    "        \"Mexican\": [\"Tacos\", \"Tortas\", \"Burritos\"],\n",
    "        \"Desserts\": ['Pie', \"Brownies\", \"Chocolate Chip Cookies\"]\n",
    "    },\n",
    "    \"Alex\": {\n",
    "        \"Hispanic\": ['Pupusas', 'Tacos', 'Fajitas'],\n",
    "        \"Sweets\": ['Pastries', 'Ice Cream', 'Canollis'],\n",
    "        \"More Sweets\" : ['Cheesecake', 'Chantilly Cupcakes', 'Cobbler', 'Pie']\n",
    "    },\n",
    "     \"Ethan\": {\n",
    "        \"Rock\": ['KGLW', 'Uncle Spudd', 'Your moms house'], \n",
    "        'Rap': ['MF DOOM', 'Kendrick', 'Andrae 3000']\n",
    "    },\n",
    "    \"Enoch\": {\n",
    "        \"Japanese\":[\"Sushi\", \"Tempura\", \"Onigiri\"],\n",
    "        \"Desserts\":[\"Cheesecake\", \"Applie Pie\", \"Yuzu Creme Brulee\"]\n",
    "    },\n",
    "    \"Htae\": {\n",
    "        \"Ramen\": [\"Miso\", \"Shoyu\", \"Shin\"],\n",
    "        \"Drinks\": [\"Dr.Pepper\", \"Water\", \"Boba tea\"]\n",
    "    },\n",
    "    \"Dez\": {\n",
    "        \"Asian\":[\"Sushi\", \"Ramen\", \"Pho\", \"Curry\"],\n",
    "        \"Doughnt_shops\": [\"Sidecar\",\"Sk's\", \"Doughnuttery\"]\n",
    "    },\n",
    "    \"Dharti\": {\n",
    "        \"Indian\": [\"Paneer\",\"Rajma\",\"Naan\"],\n",
    "        \"Sweet\": [\"Jalabi\",\"Mohanthal\",\"icecream\"]\n",
    "    },\n",
    "      \"Lyle\": {\n",
    "        'nike': ['airmax', 'jordan', 'cortez'],\n",
    "        'adidas': ['stansmiths', 'promodel', 'nmd']\n",
    "    },\n",
    "    'Daniel' :{\n",
    "    'Afri':['garri', 'fufu', 'egusi'],\n",
    "    'easyfood':['rice', 'beans', 'eba']\n",
    "    },\n",
    "    \"Chuck\": {\n",
    "       \"American\" : ['Cheese_Burger', 'Fries', 'Coke'],\n",
    "       \"Desserts\" : ['Cheese_Cake', 'Milk_Shake', 'Cake'],\n",
    "    },\n",
    "    \"Ben\": {\n",
    "    \"Indian\": [\"Tika Masala\", \"Naan\", \"Chapati\", \"Chicken Curry\", \"Fish Curry\"],\n",
    "    \"Desserts\": [\"Cheesecake\", \"Empanadas\", \"Churros\", \"Ice Cream\", \"Mangonada\"],\n",
    "    },\n",
    "    'Ewa': {\n",
    "    'Italian': {\n",
    "        'Pizza': ['Margherita', 'Pepperoni', 'Capricciosa'],\n",
    "        'Pasta': ['Spaghetti Bolognese', 'Carbonara', 'Pesto'],\n",
    "        'Dessert': ['Tiramisu', 'Panna Cotta', 'Cannoli']\n",
    "    },\n",
    "    \n",
    "    'Mexican': {\n",
    "        'Tacos': ['Al Pastor', 'Carnitas', 'Barbacoa'],\n",
    "        'Burritos': ['Bean and Cheese', 'Carne Asada', 'Chicken'],\n",
    "        'Dessert': ['Churros', 'Flan', 'Sopapillas']\n",
    "    }\n",
    "    },\n",
    "     \"Salim\" : {\n",
    "        \"turkish\" :[\"lent soup , kebaba , Gyro \"],\n",
    "        \"Dessert \" :[\"Baklava, basbousa ,maamoul\"]\n",
    "    }\n",
    "    \n",
    "    \n",
    "}\n",
    "\n",
    "print(\"\\nHere are all our favorite Foods!!! YAY!!\")\n",
    "for name in food_dict.keys():\n",
    "    print(f\"\\n{name}'s favorite foods are: \")\n",
    "    for food_type in food_dict[name].keys():\n",
    "        for food in food_dict[name][food_type]:\n",
    "            print(food)\n",
    "\n",
    "print(food_dict['Alex']['Hispanic'][2])"
   ]
  },
  {
   "cell_type": "code",
   "execution_count": null,
   "metadata": {},
   "outputs": [],
   "source": []
  },
  {
   "cell_type": "markdown",
   "metadata": {},
   "source": [
    "## Dictionaries vs. Lists (over time) Example of RUNTIME\n",
    "### When inputting values in a Dictionary vs List"
   ]
  },
  {
   "cell_type": "code",
   "execution_count": 104,
   "metadata": {},
   "outputs": [],
   "source": [
    "import time\n",
    "\n",
    "#generate dictionary\n",
    "d = {}\n",
    "for i in range(10000000):\n",
    "    d[i] = \"value \" + str(i)\n",
    "    \n",
    "# generate a list\n",
    "big_list =[x for x in range(10000000)]\n"
   ]
  },
  {
   "cell_type": "code",
   "execution_count": 110,
   "metadata": {},
   "outputs": [
    {
     "name": "stdout",
     "output_type": "stream",
     "text": [
      "value 9999999\n",
      "elapsed time for dictionary: 0.0004820823669433594\n",
      "9999999\n",
      "Elapsed time for list: 0.818356990814209\n"
     ]
    }
   ],
   "source": [
    "#track time for the dictionary\n",
    "start_time = time.time()\n",
    "print (d[9999999])\n",
    "\n",
    "end_time = time.time() - start_time\n",
    "\n",
    "print(f\"elapsed time for dictionary: {end_time}\")\n",
    "\n",
    "#tracking time for the list\n",
    "start_time = time.time()\n",
    "for i in range(len(big_list)):\n",
    "    if i == 9999999:\n",
    "        print(i)\n",
    "end_time = time.time() - start_time\n",
    "print(f\"Elapsed time for list: {end_time}\")"
   ]
  },
  {
   "cell_type": "markdown",
   "metadata": {},
   "source": [
    "## Exercise #3 - Write a Function that asks someone's name and address, and then stores that into a dictionary, and continues to do so until they choose to 'quit'. Once they quit, the program should print all names and addresses. <br>\n",
    "<p>\n",
    "<b>Proper steps:</b><br>\n",
    "step 1: write a function that takes in information and stores it in a dictionary<br>\n",
    "step 2: define an empty dictionary to work with<br>\n",
    "step 3: create our loop, which asks the user for information until they quit<br>\n",
    "step 4: ask for the information, and store it into variables<br>\n",
    "step 5: check if the user types quit<br>\n",
    "step 5a: print out all information<br>\n",
    "step 5b: break out of the loop<br>\n",
    "step 6: if they didn't quit, add the information to the dictionary<br>\n",
    "step 7: invoke the function by calling it\n",
    "</p>"
   ]
  },
  {
   "cell_type": "code",
   "execution_count": 26,
   "metadata": {},
   "outputs": [
    {
     "name": "stdout",
     "output_type": "stream",
     "text": [
      "Enter a name or say 'quit' to quit: enoch\n",
      "Enter an address or say 'quit' to quitlas veag\n",
      "Enter a name or say 'quit' to quit: mike\n",
      "Enter an address or say 'quit' to quithenderson\n",
      "Enter a name or say 'quit' to quit: quit\n",
      "The address for enoch, is las veag. Go visit them! But call first cause otherwise that's rude\n",
      "The address for mike, is henderson. Go visit them! But call first cause otherwise that's rude\n"
     ]
    }
   ],
   "source": [
    "#step 2: \n",
    "info = {}\n",
    "#step 3\n",
    "while True:\n",
    "    #step 4\n",
    "    name = input(\"Enter a name or say 'quit' to quit: \")\n",
    "    if name.lower().strip() != 'quit':\n",
    "        address = input(\"Enter an address or say 'quit' to quit\")\n",
    "    #step 5\n",
    "    if name.lower().strip()=='quit' or address.lower().strip() == 'quit':\n",
    "    #step 5a\n",
    "        for key, value in info.items():\n",
    "            print(f\"The address for {key}, is {value}. Go visit them! But call first cause otherwise that's rude\")\n",
    "        break\n",
    "            \n",
    "    info[name] = address\n",
    "            "
   ]
  },
  {
   "cell_type": "markdown",
   "metadata": {},
   "source": [
    "## Set <br>\n",
    "<p>A Set is an unordered collection data type that is iterable (loop), mutable, and has no duplicate elements.<br>Major advantage is that it is highly optimized in checking if something is in the set, as opposed to checking if something is in a list.</p>"
   ]
  },
  {
   "cell_type": "markdown",
   "metadata": {},
   "source": [
    "##### Declaring"
   ]
  },
  {
   "cell_type": "code",
   "execution_count": 116,
   "metadata": {
    "scrolled": false
   },
   "outputs": [
    {
     "name": "stdout",
     "output_type": "stream",
     "text": [
      "{8, 1, 4}\n",
      "{1, 2, 3, 4, 9}\n",
      "[1, 2, 3, 4, 9]\n",
      "5\n"
     ]
    }
   ],
   "source": [
    "# set() or {}\n",
    "# {no order {3,2,1} might output as {2,3,1}}\n",
    "\n",
    "nums = {4,1,8,4}\n",
    "\n",
    "print(nums)\n",
    "\n",
    "#one way to remove all duplicates from a list\n",
    "my_list = [1,1,1,1,1,2,2,2,2,2,2,3,3,3,3,3,4,4,9,9,9,]\n",
    "\n",
    "my_set = set(my_list)\n",
    "print(my_set)\n",
    "\n",
    "my_list = list(my_set)\n",
    "print(my_list)\n",
    "\n",
    "#we cant index because sets are unordered\n",
    "# my_set[0]\n",
    "\n",
    "print(len(my_set))"
   ]
  },
  {
   "cell_type": "code",
   "execution_count": null,
   "metadata": {
    "scrolled": true
   },
   "outputs": [],
   "source": []
  },
  {
   "cell_type": "code",
   "execution_count": null,
   "metadata": {},
   "outputs": [],
   "source": []
  },
  {
   "cell_type": "markdown",
   "metadata": {},
   "source": [
    "##### .add()"
   ]
  },
  {
   "cell_type": "code",
   "execution_count": 118,
   "metadata": {},
   "outputs": [
    {
     "name": "stdout",
     "output_type": "stream",
     "text": [
      "{2, 4, 5, 7, 9}\n",
      "{2, 4, 5, 22, 7, 9}\n",
      "{2, 4, 5, 22, 7, 9, 'Hello'}\n"
     ]
    }
   ],
   "source": [
    "#set.add()\n",
    "\n",
    "my_set = {2,5,4,7,9}\n",
    "print(my_set)\n",
    "my_set.add(22)\n",
    "print(my_set)\n",
    "\n",
    "my_set.add('Hello')\n",
    "print(my_set)\n",
    "\n",
    "my_set.add(2) # wont add\n",
    "print(my_set)\n"
   ]
  },
  {
   "cell_type": "markdown",
   "metadata": {},
   "source": [
    "##### .remove()"
   ]
  },
  {
   "cell_type": "code",
   "execution_count": 119,
   "metadata": {},
   "outputs": [
    {
     "name": "stdout",
     "output_type": "stream",
     "text": [
      "{4, 5, 7, 9}\n",
      "{4, 5, 7}\n"
     ]
    }
   ],
   "source": [
    "#my_set.remove(value)\n",
    "\n",
    "my_set = {2,4,5,7,9}\n",
    "\n",
    "my_set.remove(2)\n",
    "print(my_set)\n",
    "\n",
    "my_set.remove (9)\n",
    "print(my_set)"
   ]
  },
  {
   "cell_type": "markdown",
   "metadata": {},
   "source": [
    "##### .union() "
   ]
  },
  {
   "cell_type": "code",
   "execution_count": 121,
   "metadata": {},
   "outputs": [
    {
     "name": "stdout",
     "output_type": "stream",
     "text": [
      "{1, 2, 3, 4, 5, 6}\n",
      "{1, 2, 3, 4, 5, 6}\n"
     ]
    }
   ],
   "source": [
    "#union will combine two sets\n",
    "# can also |(shift backslash) in place of .union()\n",
    "#my_set.union(my_set2)\n",
    "\n",
    "s1 = {1,2,3,4}\n",
    "s2 = {3,4,5,6}\n",
    "\n",
    "s3= s1.union(s2)\n",
    "print(s3) \n",
    "\n",
    "#or\n",
    "\n",
    "s4 = s2|s1\n",
    "\n",
    "print(s4)\n"
   ]
  },
  {
   "cell_type": "markdown",
   "metadata": {},
   "source": [
    "##### .intersection()"
   ]
  },
  {
   "cell_type": "code",
   "execution_count": 123,
   "metadata": {},
   "outputs": [
    {
     "name": "stdout",
     "output_type": "stream",
     "text": [
      "{3, 4}\n",
      "{3, 4}\n"
     ]
    }
   ],
   "source": [
    "# return an intersection of two sets, can also use &\n",
    "# only return the similar elements of both sets\n",
    "\n",
    "s1 = {1,2,3,4}\n",
    "s2 = {3,4,5,6}\n",
    "\n",
    "s3 = s2.intersection (s1)\n",
    "\n",
    "print(s3)\n",
    "\n",
    "#or\n",
    "\n",
    "s4 = s2&s1\n",
    "print(s4)\n",
    "\n"
   ]
  },
  {
   "cell_type": "markdown",
   "metadata": {},
   "source": [
    "##### .difference()"
   ]
  },
  {
   "cell_type": "code",
   "execution_count": 126,
   "metadata": {},
   "outputs": [
    {
     "name": "stdout",
     "output_type": "stream",
     "text": [
      "{1, 2}\n",
      "{5, 6}\n"
     ]
    }
   ],
   "source": [
    "# returns a set containing the elements of the inoking set hat are not in the second set\n",
    "#can also use '-'\n",
    "# order matters\n",
    "\n",
    "s1 = {1,2,3,4}\n",
    "s2 = {3,4,5,6}\n",
    "\n",
    "s7=s1-s2\n",
    "print(s7)\n",
    "\n",
    "#or\n",
    "\n",
    "s8 = s2.difference(s1)\n",
    "print(s8)"
   ]
  },
  {
   "cell_type": "markdown",
   "metadata": {},
   "source": [
    "##### .clear()"
   ]
  },
  {
   "cell_type": "code",
   "execution_count": 127,
   "metadata": {},
   "outputs": [
    {
     "name": "stdout",
     "output_type": "stream",
     "text": [
      "{3, 4, 5, 24, 11, 12}\n",
      "set()\n"
     ]
    }
   ],
   "source": [
    "#empties the whole set\n",
    "#set.clear()\n",
    "another_set = {3,4,5,12,11,24}\n",
    "print(another_set)\n",
    "\n",
    "another_set.clear()\n",
    "\n",
    "print(another_set)"
   ]
  },
  {
   "cell_type": "code",
   "execution_count": null,
   "metadata": {},
   "outputs": [],
   "source": []
  },
  {
   "cell_type": "markdown",
   "metadata": {},
   "source": [
    "##### Frozenset <br>\n",
    "<p>Frozen sets are immutable objects that only support methods and operators that produce a result without affecting the frozen set or sets to which they are applied.</p><br><b>Unique & Immutable</b>"
   ]
  },
  {
   "cell_type": "code",
   "execution_count": 130,
   "metadata": {},
   "outputs": [
    {
     "name": "stdout",
     "output_type": "stream",
     "text": [
      "{'hello', 2, 3, 4, 5, 'my dog is neat', 7}\n",
      "frozenset({'hello', 2, 3, 4, 5, 'my dog is neat', 7})\n"
     ]
    },
    {
     "ename": "AttributeError",
     "evalue": "'frozenset' object has no attribute 'add'",
     "output_type": "error",
     "traceback": [
      "\u001b[0;31m---------------------------------------------------------------------------\u001b[0m",
      "\u001b[0;31mAttributeError\u001b[0m                            Traceback (most recent call last)",
      "Cell \u001b[0;32mIn[130], line 9\u001b[0m\n\u001b[1;32m      6\u001b[0m frozen_set \u001b[38;5;241m=\u001b[39m \u001b[38;5;28mfrozenset\u001b[39m(my_set)\n\u001b[1;32m      7\u001b[0m \u001b[38;5;28mprint\u001b[39m(frozen_set)\n\u001b[0;32m----> 9\u001b[0m \u001b[43mfrozen_set\u001b[49m\u001b[38;5;241;43m.\u001b[39;49m\u001b[43madd\u001b[49m(\u001b[38;5;241m33\u001b[39m\n\u001b[1;32m     10\u001b[0m               )\n",
      "\u001b[0;31mAttributeError\u001b[0m: 'frozenset' object has no attribute 'add'"
     ]
    }
   ],
   "source": [
    "#frozenset()\n",
    "\n",
    "my_set = {2,3,4,'hello',7,'my dog is neat',5}\n",
    "print(my_set)\n",
    "\n",
    "frozen_set = frozenset(my_set)\n",
    "print(frozen_set)\n",
    "\n",
    "# frozen_set.add(33)\n",
    "# forzen_set.remove('hello')\n",
    "\n",
    "#set the frozenset to create a new mutable set\n",
    "\n"
   ]
  },
  {
   "cell_type": "markdown",
   "metadata": {},
   "source": [
    "# Exercises"
   ]
  },
  {
   "cell_type": "markdown",
   "metadata": {},
   "source": [
    "### 1) Build a Shopping Cart <br>\n",
    "<p><b>You can use either lists or dictionaries. The program should have the following capabilities:</b><br><br>\n",
    "1) Takes in input <br>\n",
    "2) Stores user input into a dictionary or list <br>\n",
    "3) The User can add or delete items <br>\n",
    "4) The User can see current shopping list <br>\n",
    "5) The program Loops until user 'quits' <br>\n",
    "6) Upon quiting the program, print out all items in the user's list <br>\n",
    "</p>"
   ]
  },
  {
   "cell_type": "code",
   "execution_count": 19,
   "metadata": {
    "scrolled": true
   },
   "outputs": [
    {
     "name": "stdout",
     "output_type": "stream",
     "text": [
      "Do you want to: Show/Add/Delete or Quit? Pleae type in your selection. fat\n",
      "Do you want to: Show/Add/Delete or Quit? Pleae type in your selection. fat\n",
      "Do you want to: Show/Add/Delete or Quit? Pleae type in your selection. add\n",
      "Enter the item to be added to the cart. apple\n",
      "Enter the quantity of the item to be added or 'quit' to exit. 8\n",
      "Do you want to: Show/Add/Delete or Quit? Pleae type in your selection. eggs\n",
      "Do you want to: Show/Add/Delete or Quit? Pleae type in your selection. 12\n",
      "Do you want to: Show/Add/Delete or Quit? Pleae type in your selection. show\n",
      "\n",
      "In your cart:\n",
      "apple - 8 units\n",
      "Do you want to: Show/Add/Delete or Quit? Pleae type in your selection. add\n",
      "Enter the item to be added to the cart. eggs\n",
      "Enter the quantity of the item to be added or 'quit' to exit. 9\n",
      "Do you want to: Show/Add/Delete or Quit? Pleae type in your selection. show\n",
      "\n",
      "In your cart:\n",
      "apple - 8 units\n",
      "eggs - 9 units\n",
      "Do you want to: Show/Add/Delete or Quit? Pleae type in your selection. delete\n",
      "\n",
      "In your cart:\n",
      "apple - 8 units\n",
      "eggs - 9 units\n",
      "Enter the item you wish to remove: apple\n",
      "Removed item from shopping cart\n",
      "Do you want to: Show/Add/Delete or Quit? Pleae type in your selection. fat\n",
      "Do you want to: Show/Add/Delete or Quit? Pleae type in your selection. buy\n",
      "Do you want to: Show/Add/Delete or Quit? Pleae type in your selection. opps\n",
      "Do you want to: Show/Add/Delete or Quit? Pleae type in your selection. quit\n",
      "\n",
      "In your cart:\n",
      "eggs - 9 units\n"
     ]
    }
   ],
   "source": [
    "from IPython.display import clear_output\n",
    "\n",
    "# Ask the user four bits of input: Do you want to : Show/Add/Delete or Quit?\n",
    "\n",
    "#reference exercise 3\n",
    "\n",
    "\n",
    " \n",
    "cart = {}\n",
    "while True:\n",
    "    action = input(\"Do you want to: Show/Add/Delete or Quit? Pleae type in your selection. \")\n",
    "    if action.lower().strip()=='add':\n",
    "        add_item=input(\"Enter the item to be added to the cart. \")\n",
    "        add_qty=input(\"Enter the quantity of the item to be added or 'quit' to exit. \")\n",
    "        cart[add_item] = add_qty \n",
    "    elif action.lower().strip() == 'delete':\n",
    "        print(\"\\nIn your cart:\")\n",
    "        for item, qty in cart.items():\n",
    "            print(f\"{item} - {qty} units\")\n",
    "        del_item =input(\"Enter the item you wish to remove: \")\n",
    "        del cart[del_item]  \n",
    "        print(\"Removed item from shopping cart\")\n",
    "    elif action.lower().strip() == 'show':\n",
    "        print(\"\\nIn your cart:\")\n",
    "        for item, qty in cart.items():\n",
    "            print(f\"{item} - {qty} units\")\n",
    "        continue\n",
    "    elif add_qty.lower().strip() == 'quit' or action.lower().strip() == 'quit':\n",
    "            print(\"\\nIn your cart:\")\n",
    "            for item, qty in cart.items():\n",
    "                print(f\"{item} - {qty} units\")\n",
    "            break\n",
    "    else:\n",
    "        continue\n",
    "    \n",
    "    \n",
    "\n",
    "           \n",
    "            "
   ]
  },
  {
   "cell_type": "markdown",
   "metadata": {},
   "source": [
    "# 2) Set Practice"
   ]
  },
  {
   "cell_type": "markdown",
   "metadata": {},
   "source": [
    "<p><b>Remove all duplicates from the following list</b></p>"
   ]
  },
  {
   "cell_type": "code",
   "execution_count": 52,
   "metadata": {},
   "outputs": [
    {
     "name": "stdout",
     "output_type": "stream",
     "text": [
      "{1, 2, 3, 4, 5, 6, 11, 12, 14, 16}\n"
     ]
    }
   ],
   "source": [
    "nums_list = [1, 1, 1, 2, 2, 3, 5, 6, 4, 12, 11, 12, 12, 14, 16, 16, 16, 1, 1, 1, 2, 2]\n",
    "dedupe = set(nums_list)\n",
    "print(dedupe)"
   ]
  },
  {
   "cell_type": "markdown",
   "metadata": {},
   "source": [
    "<p><b>Out put the intersection of the following the following sets.</b></p>"
   ]
  },
  {
   "cell_type": "code",
   "execution_count": 38,
   "metadata": {},
   "outputs": [
    {
     "name": "stdout",
     "output_type": "stream",
     "text": [
      "{26, 27}\n"
     ]
    }
   ],
   "source": [
    "\n",
    "set1 = {20, 24, 26, 27}\n",
    "set2 = {26, 35, 63, 27}\n",
    "intersect = set1&set2\n",
    "print(intersect)\n"
   ]
  },
  {
   "cell_type": "markdown",
   "metadata": {},
   "source": [
    "<p><b>Output the difference between the following sets</b></p>"
   ]
  },
  {
   "cell_type": "code",
   "execution_count": 44,
   "metadata": {},
   "outputs": [
    {
     "name": "stdout",
     "output_type": "stream",
     "text": [
      "{89, 100, 54, 103}\n"
     ]
    }
   ],
   "source": [
    "set3 = {100, 65, 89, 200}\n",
    "set4 = {65, 103, 54, 200}\n",
    "\n",
    "set3_4_diff = set3-set4\n",
    "set4_3_diff = set4-set3\n",
    "\n",
    "diff = set3_4_diff|set4_3_diff\n",
    "print(diff)"
   ]
  },
  {
   "cell_type": "code",
   "execution_count": null,
   "metadata": {},
   "outputs": [],
   "source": []
  },
  {
   "cell_type": "code",
   "execution_count": null,
   "metadata": {},
   "outputs": [],
   "source": []
  }
 ],
 "metadata": {
  "kernelspec": {
   "display_name": "Python 3 (ipykernel)",
   "language": "python",
   "name": "python3"
  },
  "language_info": {
   "codemirror_mode": {
    "name": "ipython",
    "version": 3
   },
   "file_extension": ".py",
   "mimetype": "text/x-python",
   "name": "python",
   "nbconvert_exporter": "python",
   "pygments_lexer": "ipython3",
   "version": "3.10.10"
  }
 },
 "nbformat": 4,
 "nbformat_minor": 2
}
