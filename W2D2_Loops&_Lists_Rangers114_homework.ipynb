{
 "cells": [
  {
   "cell_type": "markdown",
   "metadata": {},
   "source": [
    "# Functions, Scoping, Data Collections 1 & List Comprehensions"
   ]
  },
  {
   "cell_type": "markdown",
   "metadata": {},
   "source": [
    "## Tasks Today:\n",
    "\n",
    "<i>Monday Additions (for loops)</i>\n",
    "\n",
    "1) For Loops <br>\n",
    " &nbsp;&nbsp;&nbsp;&nbsp; a) Using 'in' keyword <br>\n",
    " &nbsp;&nbsp;&nbsp;&nbsp; b) Continue Statement <br>\n",
    " &nbsp;&nbsp;&nbsp;&nbsp; c) Break Statement <br>\n",
    " &nbsp;&nbsp;&nbsp;&nbsp; d) Pass Statement <br>\n",
    " &nbsp;&nbsp;&nbsp;&nbsp; e) Double For Loops <br>\n",
    "2) While Loops <br>\n",
    " &nbsp;&nbsp;&nbsp;&nbsp; a) Looping 'While True' <br>\n",
    " &nbsp;&nbsp;&nbsp;&nbsp; b) While and For Loops Used Together <br>\n",
    " \n",
    "3) Lists <br>\n",
    " &nbsp;&nbsp;&nbsp;&nbsp; a) Declaring Lists <br>\n",
    " &nbsp;&nbsp;&nbsp;&nbsp; b) Indexing a List <br>\n",
    " &nbsp;&nbsp;&nbsp;&nbsp; c) .append() <br>\n",
    " &nbsp;&nbsp;&nbsp;&nbsp; d) .insert() <br>\n",
    " &nbsp;&nbsp;&nbsp;&nbsp; e) .pop() <br>\n",
    " &nbsp;&nbsp;&nbsp;&nbsp; f) .remove() <br>\n",
    " &nbsp;&nbsp;&nbsp;&nbsp; g) del() <br>\n",
    " &nbsp;&nbsp;&nbsp;&nbsp; h) Concatenating Two Lists <br>\n",
    " &nbsp;&nbsp;&nbsp;&nbsp; i) Lists Within Lists <br>\n",
    " &nbsp;&nbsp;&nbsp;&nbsp; j) Looping Through Lists <br>\n",
    "4) Working With Lists <br>\n",
    " &nbsp;&nbsp;&nbsp;&nbsp; a) min() <br>\n",
    " &nbsp;&nbsp;&nbsp;&nbsp; b) max() <br>\n",
    " &nbsp;&nbsp;&nbsp;&nbsp; c) sum() <br>\n",
    " &nbsp;&nbsp;&nbsp;&nbsp; d) sort() <br>\n",
    " &nbsp;&nbsp;&nbsp;&nbsp; e) Copying a List <br>\n",
    " &nbsp;&nbsp;&nbsp;&nbsp; f) 'in' keyword <br>\n",
    " &nbsp;&nbsp;&nbsp;&nbsp; g) 'not in' keyword <br>\n",
    " &nbsp;&nbsp;&nbsp;&nbsp; i) Checking an Empty List <br>\n",
    " &nbsp;&nbsp;&nbsp;&nbsp; j) Removing Instances with a Loop <br> \n",
    "5) List Comprehensions <br>\n",
    "6) Tuples <br>\n",
    " &nbsp;&nbsp;&nbsp;&nbsp; a) sorted() <br>\n"
   ]
  },
  {
   "cell_type": "markdown",
   "metadata": {},
   "source": [
    "### For Loops"
   ]
  },
  {
   "cell_type": "code",
   "execution_count": 3,
   "metadata": {},
   "outputs": [
    {
     "name": "stdout",
     "output_type": "stream",
     "text": [
      "S\n",
      "h\n",
      "a\n",
      "d\n",
      "o\n",
      "w\n",
      "ryan\n",
      "alex\n",
      "chuck\n",
      "salim\n",
      "patick\n",
      "ethan\n"
     ]
    }
   ],
   "source": [
    "# for keyword, variable iterator/counter, in heyword, object(iterable)\n",
    "\n",
    "dog = \"Shadow\"\n",
    "\n",
    "for letter in dog:\n",
    "    print(letter)\n",
    "    \n",
    "names = ['ryan', 'alex', 'chuck', 'salim', 'patick', 'ethan']\n",
    "\n",
    "for name in names:\n",
    "    print(name)"
   ]
  },
  {
   "cell_type": "code",
   "execution_count": 7,
   "metadata": {
    "scrolled": false
   },
   "outputs": [
    {
     "name": "stdout",
     "output_type": "stream",
     "text": [
      "0\n",
      "1\n",
      "2\n",
      "3\n",
      "4\n",
      "5\n",
      "6\n",
      "7\n",
      "8\n",
      "9\n",
      "0\n",
      "1\n",
      "2\n",
      "3\n",
      "4\n",
      "5\n",
      "6\n",
      "7\n",
      "8\n",
      "9\n",
      "10\n",
      "11\n",
      "12\n",
      "13\n",
      "14\n"
     ]
    }
   ],
   "source": [
    "numbers = range(10)\n",
    "for num in numbers:\n",
    "    print(num)\n",
    "    \n",
    "for i in range(15):\n",
    "    print(i)"
   ]
  },
  {
   "cell_type": "code",
   "execution_count": 8,
   "metadata": {},
   "outputs": [
    {
     "name": "stdout",
     "output_type": "stream",
     "text": [
      "12\n",
      "0\n",
      "1\n",
      "2\n",
      "3\n",
      "4\n",
      "5\n",
      "6\n",
      "7\n",
      "8\n",
      "9\n",
      "10\n",
      "11\n"
     ]
    }
   ],
   "source": [
    "name = \"Ryan Rhoades\"\n",
    "\n",
    "length = len(name)\n",
    "print(length)\n",
    "\n",
    "#takes the length of an object/iterable and grabs the number of character of the length\n",
    "# then we loop through the ragne of that length len(name) = 12, loop through range(12)\n",
    "#for i in range(12)\n",
    "for i in range(len(name)):\n",
    "    print(i)"
   ]
  },
  {
   "cell_type": "markdown",
   "metadata": {},
   "source": [
    "##### Using 'in' keyword"
   ]
  },
  {
   "cell_type": "code",
   "execution_count": 12,
   "metadata": {},
   "outputs": [
    {
     "name": "stdout",
     "output_type": "stream",
     "text": [
      "0\n",
      "1\n",
      "4\n",
      "9\n",
      "16\n",
      "25\n",
      "36\n",
      "49\n",
      "64\n",
      "81\n",
      "100\n",
      "121\n",
      "144\n",
      "169\n",
      "196\n",
      "oh neat, same latter\n",
      "oh neat, same latter\n",
      "not the same letter\n",
      "not the same letter\n",
      "not the same letter\n",
      "oh neat, same latter\n",
      "oh neat, same latter\n"
     ]
    }
   ],
   "source": [
    "#with conditionals in checks for membership\n",
    "#if 'p' in word:\n",
    "#   print(it's here)\n",
    "\n",
    "for i in range(15):\n",
    "    print(i**2)\n",
    "\n",
    "name = \"Barney \"\n",
    "\n",
    "name2 = \"Baby Bop\"\n",
    "\n",
    "for letter in name:\n",
    "    if letter in name2:\n",
    "        print(\"oh neat, same latter\")\n",
    "    else:\n",
    "        print('not the same letter')"
   ]
  },
  {
   "cell_type": "markdown",
   "metadata": {},
   "source": [
    "##### Continue Statement"
   ]
  },
  {
   "cell_type": "code",
   "execution_count": null,
   "metadata": {},
   "outputs": [],
   "source": [
    "#continue will move on to the next iteration if a conditino is met\n",
    "#for i in range(20):\n",
    "#   print(i)\n",
    "\n",
    "for i in range(20):\n",
    "    if i== 5 or i ==6:\n",
    "        continue\n",
    "    print(i)"
   ]
  },
  {
   "cell_type": "markdown",
   "metadata": {},
   "source": [
    "##### Break Statement"
   ]
  },
  {
   "cell_type": "code",
   "execution_count": null,
   "metadata": {},
   "outputs": [],
   "source": [
    "# stops the loop from iterating if a certain condition is met\n",
    "\n",
    "for i in range(20):\n",
    "    if i ==6:\n",
    "        break\n",
    "    print(i)\n"
   ]
  },
  {
   "cell_type": "markdown",
   "metadata": {},
   "source": [
    "##### Pass Statement"
   ]
  },
  {
   "cell_type": "code",
   "execution_count": 14,
   "metadata": {},
   "outputs": [
    {
     "name": "stdout",
     "output_type": "stream",
     "text": [
      "m\n",
      "i\n",
      "d\n",
      "i\n",
      " \n",
      "k\n",
      "e\n",
      "y\n",
      "b\n",
      "o\n",
      "a\n",
      "r\n",
      "d\n"
     ]
    }
   ],
   "source": [
    "#mostly used a placeholder\n",
    "\n",
    "for i in range(20):\n",
    "    pass\n",
    "\n",
    "word = \"midi keyboard\"\n",
    "\n",
    "for letter in word:\n",
    "    print(letter)\n",
    "    \n",
    "def get_total():\n",
    "    pass"
   ]
  },
  {
   "cell_type": "markdown",
   "metadata": {},
   "source": [
    "##### Double For Loops"
   ]
  },
  {
   "cell_type": "code",
   "execution_count": 16,
   "metadata": {},
   "outputs": [
    {
     "name": "stdout",
     "output_type": "stream",
     "text": [
      "i =  1 j =  1\n",
      "i =  1 j =  2\n",
      "i =  1 j =  3\n",
      "i =  1 j =  4\n",
      "i =  1 j =  5\n",
      "i =  2 j =  1\n",
      "i =  2 j =  2\n",
      "i =  2 j =  3\n",
      "i =  2 j =  4\n",
      "i =  2 j =  5\n",
      "i =  3 j =  1\n",
      "i =  3 j =  2\n",
      "i =  3 j =  3\n",
      "i =  3 j =  4\n",
      "i =  3 j =  5\n",
      "i =  4 j =  1\n",
      "i =  4 j =  2\n",
      "i =  4 j =  3\n",
      "i =  4 j =  4\n",
      "i =  4 j =  5\n",
      "i =  5 j =  1\n",
      "i =  5 j =  2\n",
      "i =  5 j =  3\n",
      "i =  5 j =  4\n",
      "i =  5 j =  5\n"
     ]
    }
   ],
   "source": [
    "for i in range(1,6):\n",
    "    for j in range(1,6):\n",
    "        print(\"i = \", i, \"j = \", j)\n",
    "        "
   ]
  },
  {
   "cell_type": "code",
   "execution_count": null,
   "metadata": {
    "scrolled": true
   },
   "outputs": [],
   "source": []
  },
  {
   "cell_type": "code",
   "execution_count": null,
   "metadata": {},
   "outputs": [],
   "source": []
  },
  {
   "cell_type": "markdown",
   "metadata": {},
   "source": [
    "### While Loops"
   ]
  },
  {
   "cell_type": "code",
   "execution_count": 19,
   "metadata": {},
   "outputs": [
    {
     "name": "stdout",
     "output_type": "stream",
     "text": [
      "1\n",
      "2\n",
      "3\n",
      "4\n",
      "5\n",
      "6\n",
      "7\n",
      "8\n",
      "9\n",
      "10\n",
      "11\n",
      "\n",
      "\n",
      "0\n",
      "1\n",
      "4\n",
      "9\n",
      "16\n",
      "25\n",
      "36\n",
      "49\n",
      "64\n",
      "81\n",
      "100\n",
      "121\n",
      "144\n",
      "169\n",
      "196\n"
     ]
    }
   ],
   "source": [
    "# while keyword, condition \n",
    "# while loop will run based on the condition statement \n",
    "\n",
    "counter = 0\n",
    "\n",
    "while counter < 11:\n",
    "    counter += 1\n",
    "    print(counter)\n",
    "    \n",
    "print(\"\\n\")\n",
    "\n",
    "num= 0\n",
    "while num <15:\n",
    "    print(num**2)\n",
    "    num += 1\n",
    "    \n"
   ]
  },
  {
   "cell_type": "code",
   "execution_count": 20,
   "metadata": {},
   "outputs": [
    {
     "name": "stdout",
     "output_type": "stream",
     "text": [
      "1\n",
      "2\n",
      "3\n",
      "4\n",
      "5\n",
      "6\n"
     ]
    }
   ],
   "source": [
    "# breaks with while loop\n",
    "num = 0\n",
    "while num < 15:\n",
    "    num += 1\n",
    "    if num == 7:\n",
    "        break\n",
    "    print(num)\n",
    "    \n",
    "names =['a','b', 'c', 'd']"
   ]
  },
  {
   "cell_type": "markdown",
   "metadata": {},
   "source": [
    "##### looping 'While True'"
   ]
  },
  {
   "cell_type": "code",
   "execution_count": 21,
   "metadata": {},
   "outputs": [
    {
     "name": "stdout",
     "output_type": "stream",
     "text": [
      "Infinte Loop\n"
     ]
    }
   ],
   "source": [
    "# true as a condition for a while loop to run\n",
    "\n",
    "game_over = False\n",
    "while True:\n",
    "    print(\"Infinte Loop\")\n",
    "    if game_over == False:\n",
    "        break"
   ]
  },
  {
   "cell_type": "code",
   "execution_count": 24,
   "metadata": {},
   "outputs": [
    {
     "name": "stdout",
     "output_type": "stream",
     "text": [
      "checkng num\n"
     ]
    }
   ],
   "source": [
    "game_running = True\n",
    "num = 7\n",
    "while game_running:\n",
    "    print(\"checkng num\")\n",
    "    if num == 7:\n",
    "        game_running = False"
   ]
  },
  {
   "cell_type": "code",
   "execution_count": 26,
   "metadata": {},
   "outputs": [
    {
     "name": "stdout",
     "output_type": "stream",
     "text": [
      "What's is your name?\n",
      "thats empty please enter a name\n",
      "What's is your name?\n",
      "thats empty please enter a name\n",
      "What's is your name?jane\n",
      "jane\n"
     ]
    }
   ],
   "source": [
    "while True:\n",
    "    name = input(\"What's is your name?\")\n",
    "    if name == \"\":\n",
    "        print('thats empty please enter a name')\n",
    "    else:\n",
    "        print(name)\n",
    "        break\n",
    "        "
   ]
  },
  {
   "cell_type": "markdown",
   "metadata": {},
   "source": [
    "##### While & For Loops Used Together"
   ]
  },
  {
   "cell_type": "code",
   "execution_count": 27,
   "metadata": {},
   "outputs": [
    {
     "name": "stdout",
     "output_type": "stream",
     "text": [
      "\n",
      "While Loop Iteration: 0\n",
      "For loop iteration: 0\n",
      "For loop iteration: 1\n",
      "For loop iteration: 2\n",
      "For loop iteration: 3\n",
      "\n",
      "While Loop Iteration: 1\n",
      "For loop iteration: 0\n",
      "For loop iteration: 1\n",
      "For loop iteration: 2\n",
      "For loop iteration: 3\n",
      "\n",
      "While Loop Iteration: 2\n",
      "For loop iteration: 0\n",
      "For loop iteration: 1\n",
      "For loop iteration: 2\n",
      "For loop iteration: 3\n",
      "\n",
      "While Loop Iteration: 3\n",
      "For loop iteration: 0\n",
      "For loop iteration: 1\n",
      "For loop iteration: 2\n",
      "For loop iteration: 3\n",
      "\n",
      "While Loop Iteration: 4\n",
      "For loop iteration: 0\n",
      "For loop iteration: 1\n",
      "For loop iteration: 2\n",
      "For loop iteration: 3\n",
      "\n",
      "While Loop Iteration: 5\n",
      "For loop iteration: 0\n",
      "For loop iteration: 1\n",
      "For loop iteration: 2\n",
      "For loop iteration: 3\n",
      "\n",
      "While Loop Iteration: 6\n",
      "For loop iteration: 0\n",
      "For loop iteration: 1\n",
      "For loop iteration: 2\n",
      "For loop iteration: 3\n",
      "\n",
      "While Loop Iteration: 7\n",
      "For loop iteration: 0\n",
      "For loop iteration: 1\n",
      "For loop iteration: 2\n",
      "For loop iteration: 3\n",
      "\n",
      "While Loop Iteration: 8\n",
      "For loop iteration: 0\n",
      "For loop iteration: 1\n",
      "For loop iteration: 2\n",
      "For loop iteration: 3\n",
      "\n",
      "While Loop Iteration: 9\n",
      "For loop iteration: 0\n",
      "For loop iteration: 1\n",
      "For loop iteration: 2\n",
      "For loop iteration: 3\n"
     ]
    }
   ],
   "source": [
    "j = 0\n",
    "\n",
    "while j < 10:\n",
    "    print(\"\\nWhile Loop Iteration: \" + str(j))\n",
    "    \n",
    "    for i in range(4):\n",
    "        print(\"For loop iteration: \" + str(i))\n",
    "        \n",
    "    j += 1\n",
    "        "
   ]
  },
  {
   "cell_type": "markdown",
   "metadata": {},
   "source": [
    "##### The Range Function"
   ]
  },
  {
   "cell_type": "code",
   "execution_count": 29,
   "metadata": {},
   "outputs": [
    {
     "name": "stdout",
     "output_type": "stream",
     "text": [
      "0\n",
      "1\n",
      "2\n",
      "3\n",
      "4\n",
      "\n",
      "\n",
      "1\n",
      "2\n",
      "3\n",
      "4\n",
      "5\n",
      "6\n",
      "7\n",
      "8\n",
      "9\n",
      "\n",
      "\n",
      "1\n",
      "4\n",
      "7\n"
     ]
    }
   ],
   "source": [
    "#range(start, stop, step) stop is only required parameter and is not inclusive\n",
    "#start will default to 0 if not provided\n",
    "#step will default to 1 if not provided\n",
    "\n",
    "#stop\n",
    "for i in range(5):\n",
    "    print(i)\n",
    "print(\"\\n\")\n",
    "#start, stop\n",
    "for i in range(1,10):\n",
    "    print(i)\n",
    "print(\"\\n\")\n",
    "\n",
    "#start, stop, step\n",
    "for i in range (1,10,3):\n",
    "    print(i)\n",
    "    "
   ]
  },
  {
   "cell_type": "markdown",
   "metadata": {},
   "source": [
    "### String Manipulation Exercise"
   ]
  },
  {
   "cell_type": "code",
   "execution_count": 13,
   "metadata": {},
   "outputs": [],
   "source": []
  },
  {
   "cell_type": "code",
   "execution_count": 34,
   "metadata": {},
   "outputs": [
    {
     "name": "stdout",
     "output_type": "stream",
     "text": [
      "Connor\n",
      "Max\n",
      "Evan\n",
      "Jordan\n"
     ]
    }
   ],
   "source": [
    "# Loop through the list below an strip all white space and title case each string\n",
    "#print each corrected name\n",
    "names = ['    coNNor', 'max', ' EVan ', 'JORDAN']\n",
    "\n",
    "for name in names:\n",
    "    name = name.title().strip()\n",
    "    print(name)"
   ]
  },
  {
   "cell_type": "code",
   "execution_count": 16,
   "metadata": {
    "scrolled": true
   },
   "outputs": [
    {
     "name": "stdout",
     "output_type": "stream",
     "text": [
      "Connor\n",
      "Max\n",
      "Evan\n",
      "Jordan\n",
      "['Connor', 'Max', 'Evan', 'Jordan']\n",
      "Connor\n",
      "Max\n",
      "Evan\n",
      "Jordan\n",
      "['Connor', 'Max', 'Evan', 'Jordan']\n"
     ]
    }
   ],
   "source": []
  },
  {
   "cell_type": "code",
   "execution_count": 17,
   "metadata": {},
   "outputs": [
    {
     "name": "stdout",
     "output_type": "stream",
     "text": [
      "Connor Max Evan Jordan None\n"
     ]
    }
   ],
   "source": []
  },
  {
   "cell_type": "markdown",
   "metadata": {},
   "source": [
    "## Lists"
   ]
  },
  {
   "cell_type": "markdown",
   "metadata": {},
   "source": [
    "##### Declaring Lists"
   ]
  },
  {
   "cell_type": "code",
   "execution_count": 37,
   "metadata": {},
   "outputs": [
    {
     "name": "stdout",
     "output_type": "stream",
     "text": [
      "['Alex', 'Lyle', 'Chuck', 'Manja', 'Desiree']\n"
     ]
    }
   ],
   "source": [
    "#declaring an empty list\n",
    "our_list = [] #<-- empty list\n",
    "\n",
    "names = [\"Alex\", \"Lyle\", \"Chuck\", \"Manja\", \"Desiree\",]\n",
    "\n",
    "numbers = [1,2,3,4,5,6,7]\n",
    "\n",
    "print(names)"
   ]
  },
  {
   "cell_type": "markdown",
   "metadata": {},
   "source": [
    "##### Indexing a List"
   ]
  },
  {
   "cell_type": "code",
   "execution_count": 44,
   "metadata": {},
   "outputs": [
    {
     "name": "stdout",
     "output_type": "stream",
     "text": [
      "Chuck\n",
      "['Lyle', 'Chuck', 'Manja', 'Desiree']\n",
      "['Lyle', 'Chuck', 'Manja', 'Desiree']\n",
      "['Alex', 'Lyle']\n",
      "['Lyle', 'Manja']\n",
      "['Lyle', 'Manja']\n",
      "['Desiree', 'Manja', 'Chuck', 'Lyle', 'Alex']\n"
     ]
    }
   ],
   "source": [
    "#list slicing\n",
    "#[start:stop:step]  -->[-1] last item on the list\n",
    "#our_list[2]\n",
    "names = [\"Alex\", \"Lyle\", \"Chuck\", \"Manja\", \"Desiree\",]\n",
    "\n",
    "#single index\n",
    "print(names[2])\n",
    "\n",
    "#print starting at index 1 and going to the end of the list\n",
    "print(names[1:])\n",
    "new_list = names[1:]\n",
    "print(new_list)\n",
    "# print starting at the beginning of the list and going up to the specified index \n",
    "print(names[:2])\n",
    "\n",
    "#print starting at index 1 and stepping by 2\n",
    "print(names[1::2])\n",
    "copy_list = names[1::2]\n",
    "print(copy_list)\n",
    "\n",
    "#reversing a list (starting at the back and printing every item foing to the front)\n",
    "print(names[::-1])  \n",
    "\n",
    "#our_list[-1] <--- always be the last item in a list\n",
    "            "
   ]
  },
  {
   "cell_type": "markdown",
   "metadata": {},
   "source": [
    "### List Methods"
   ]
  },
  {
   "cell_type": "markdown",
   "metadata": {},
   "source": [
    "##### .append()"
   ]
  },
  {
   "cell_type": "code",
   "execution_count": 46,
   "metadata": {},
   "outputs": [
    {
     "name": "stdout",
     "output_type": "stream",
     "text": [
      "['Alex', 'Lyle', 'Chuck', 'Manja', 'Desiree', 'Ben']\n"
     ]
    }
   ],
   "source": [
    "#append add to the back of a list\n",
    "names = [\"Alex\", \"Lyle\", \"Chuck\", \"Manja\", \"Desiree\",]\n",
    "\n",
    "names.append('Ben')\n",
    "print(names)"
   ]
  },
  {
   "cell_type": "code",
   "execution_count": 47,
   "metadata": {
    "scrolled": true
   },
   "outputs": [
    {
     "name": "stdout",
     "output_type": "stream",
     "text": [
      "['Ben', 'Desiree', 'Manja']\n"
     ]
    }
   ],
   "source": [
    "print((names[:2:-1]))"
   ]
  },
  {
   "cell_type": "code",
   "execution_count": 48,
   "metadata": {},
   "outputs": [
    {
     "name": "stdout",
     "output_type": "stream",
     "text": [
      "['Alex', 'Lyle', 'Chuck', 'Manja', 'Desiree', 'Ben', 'Fabian']\n"
     ]
    }
   ],
   "source": [
    "names.append('Fabian')\n",
    "print(names)"
   ]
  },
  {
   "cell_type": "code",
   "execution_count": 49,
   "metadata": {},
   "outputs": [
    {
     "name": "stdout",
     "output_type": "stream",
     "text": [
      "['Fabian', 'Ben']\n"
     ]
    }
   ],
   "source": [
    "print(names[:4:-1])"
   ]
  },
  {
   "cell_type": "code",
   "execution_count": 53,
   "metadata": {},
   "outputs": [
    {
     "name": "stdout",
     "output_type": "stream",
     "text": [
      "[1, 2, 3, 4, 5, 6, 12, 16, 18]\n"
     ]
    }
   ],
   "source": [
    "numbers = [1,2,3,4,5,6]\n",
    "\n",
    "numbers.append(12)\n",
    "numbers.append(16)\n",
    "numbers.append(18)\n",
    "\n",
    "print(numbers)"
   ]
  },
  {
   "cell_type": "code",
   "execution_count": null,
   "metadata": {},
   "outputs": [],
   "source": [
    "names = ['    coNNor', 'max', ' EVan ', 'JORDAN']\n",
    "\n",
    "title_list = []\n",
    "for name in names:\n",
    "    names.append(name.strip().title())\n",
    "    \n",
    "print(title_list)"
   ]
  },
  {
   "cell_type": "markdown",
   "metadata": {},
   "source": [
    "##### .insert()"
   ]
  },
  {
   "cell_type": "code",
   "execution_count": 60,
   "metadata": {
    "scrolled": true
   },
   "outputs": [
    {
     "ename": "AttributeError",
     "evalue": "'str' object has no attribute 'insert'",
     "output_type": "error",
     "traceback": [
      "\u001b[0;31m---------------------------------------------------------------------------\u001b[0m",
      "\u001b[0;31mAttributeError\u001b[0m                            Traceback (most recent call last)",
      "Cell \u001b[0;32mIn[60], line 4\u001b[0m\n\u001b[1;32m      1\u001b[0m \u001b[38;5;66;03m#take in an element and and index\u001b[39;00m\n\u001b[1;32m      2\u001b[0m names \u001b[38;5;241m=\u001b[39m [\u001b[38;5;124m\"\u001b[39m\u001b[38;5;124mAlex\u001b[39m\u001b[38;5;124m\"\u001b[39m, \u001b[38;5;124m\"\u001b[39m\u001b[38;5;124mLyle\u001b[39m\u001b[38;5;124m\"\u001b[39m, \u001b[38;5;124m\"\u001b[39m\u001b[38;5;124mChuck\u001b[39m\u001b[38;5;124m\"\u001b[39m, \u001b[38;5;124m\"\u001b[39m\u001b[38;5;124mManja\u001b[39m\u001b[38;5;124m\"\u001b[39m, \u001b[38;5;124m\"\u001b[39m\u001b[38;5;124mDesiree\u001b[39m\u001b[38;5;124m\"\u001b[39m,]\n\u001b[0;32m----> 4\u001b[0m \u001b[43mname\u001b[49m\u001b[38;5;241;43m.\u001b[39;49m\u001b[43minsert\u001b[49m(\u001b[38;5;241m3\u001b[39m, \u001b[38;5;124m\"\u001b[39m\u001b[38;5;124mRyan\u001b[39m\u001b[38;5;124m\"\u001b[39m)\n\u001b[1;32m      5\u001b[0m \u001b[38;5;28mprint\u001b[39m(names)\n",
      "\u001b[0;31mAttributeError\u001b[0m: 'str' object has no attribute 'insert'"
     ]
    }
   ],
   "source": [
    "#take in an element and and index\n",
    "names = [\"Alex\", \"Lyle\", \"Chuck\", \"Manja\", \"Desiree\",]namesname\n"
   ]
  },
  {
   "cell_type": "code",
   "execution_count": 68,
   "metadata": {},
   "outputs": [
    {
     "name": "stdout",
     "output_type": "stream",
     "text": [
      "[5, 6, 1, 10, 11, 334, 12, 123]\n"
     ]
    }
   ],
   "source": [
    "new_data = [5,6,1,10,11,334,12,123]\n",
    "new_date.insert(2,56)\n",
    "\n",
    "print(new_data)"
   ]
  },
  {
   "cell_type": "code",
   "execution_count": 67,
   "metadata": {},
   "outputs": [
    {
     "name": "stdout",
     "output_type": "stream",
     "text": [
      "10\n",
      "range(0, 10)\n"
     ]
    }
   ],
   "source": [
    "print(len(new_data))\n",
    "print(range(len(new_data)))"
   ]
  },
  {
   "cell_type": "code",
   "execution_count": 64,
   "metadata": {},
   "outputs": [
    {
     "name": "stdout",
     "output_type": "stream",
     "text": [
      "[5, 6, 56, 'Manja', 1, 10, 11, 334, 12, 123]\n"
     ]
    }
   ],
   "source": [
    "for i in range(len(new_data)):\n",
    "    if i == 3:\n",
    "        new_data.insert(i,names[i])\n",
    "print(new_data)"
   ]
  },
  {
   "cell_type": "markdown",
   "metadata": {},
   "source": [
    "##### .pop()"
   ]
  },
  {
   "cell_type": "code",
   "execution_count": 69,
   "metadata": {},
   "outputs": [
    {
     "name": "stdout",
     "output_type": "stream",
     "text": [
      "Manja\n",
      "['Desiree']\n"
     ]
    }
   ],
   "source": [
    "#pop will be default remove the last item in a list\n",
    "#otherwise it takes an index and will pop out the value at that index from the list\n",
    "\n",
    "names = [\"Alex\", \"Lyle\", \"Chuck\", \"Manja\", \"Desiree\",]\n",
    "bye_bye_name = names.pop(3)\n",
    "print(bye_bye_name)\n",
    "\n",
    "other_list=[]\n",
    "other_list.append(names.pop())\n",
    "print(other_list)"
   ]
  },
  {
   "cell_type": "code",
   "execution_count": 70,
   "metadata": {},
   "outputs": [
    {
     "name": "stdout",
     "output_type": "stream",
     "text": [
      "Chuck\n"
     ]
    }
   ],
   "source": [
    "print(names.pop())"
   ]
  },
  {
   "cell_type": "markdown",
   "metadata": {},
   "source": [
    "##### .remove()"
   ]
  },
  {
   "cell_type": "code",
   "execution_count": 92,
   "metadata": {},
   "outputs": [
    {
     "name": "stdout",
     "output_type": "stream",
     "text": [
      "['Bob', 'Bob', 'Billy', 'Berry', 'Bob', 'Bert', 'Bertha']\n"
     ]
    }
   ],
   "source": [
    "# remove by specific value -> my_list.remove(element)\n",
    "names = ['Bob', 'Bob', 'Billy', 'Berry', 'Bob', 'Bert', 'Bertha']\n",
    "\n",
    "\n",
    "print(names)"
   ]
  },
  {
   "cell_type": "code",
   "execution_count": 95,
   "metadata": {
    "scrolled": false
   },
   "outputs": [
    {
     "name": "stdout",
     "output_type": "stream",
     "text": [
      "['Billy', 'Berry', 'Bert', 'Bertha']\n"
     ]
    }
   ],
   "source": [
    "names.remove('Bob')\n",
    "print(names)"
   ]
  },
  {
   "cell_type": "code",
   "execution_count": 102,
   "metadata": {},
   "outputs": [
    {
     "name": "stdout",
     "output_type": "stream",
     "text": [
      "['Bob', 'Billy', 'Bob', 'Bob', 'Berry', 'Bertha', 'Bob', 'Bert']\n",
      "['Billy', 'Berry', 'Bertha', 'Bert']\n"
     ]
    }
   ],
   "source": [
    "names = ['Bob', 'Billy','Bob', 'Bob', 'Berry', 'Bertha','Bob', 'Bert']\n",
    "print(names)\n",
    "while 'Bob' in names:\n",
    "    names.remove('Bob')\n",
    "    \n",
    "print(names)\n",
    "\n",
    "# for name in names:\n",
    "#     if name == 'Bob':\n",
    "#         names.remove('Bob')\n",
    "# print(names)\n",
    "#not going to work"
   ]
  },
  {
   "cell_type": "code",
   "execution_count": 99,
   "metadata": {},
   "outputs": [
    {
     "ename": "IndexError",
     "evalue": "list index out of range",
     "output_type": "error",
     "traceback": [
      "\u001b[0;31m---------------------------------------------------------------------------\u001b[0m",
      "\u001b[0;31mIndexError\u001b[0m                                Traceback (most recent call last)",
      "Cell \u001b[0;32mIn[99], line 4\u001b[0m\n\u001b[1;32m      1\u001b[0m names \u001b[38;5;241m=\u001b[39m [\u001b[38;5;124m'\u001b[39m\u001b[38;5;124mBob\u001b[39m\u001b[38;5;124m'\u001b[39m, \u001b[38;5;124m'\u001b[39m\u001b[38;5;124mBilly\u001b[39m\u001b[38;5;124m'\u001b[39m\u001b[38;5;124m'\u001b[39m\u001b[38;5;124m Bob\u001b[39m\u001b[38;5;124m'\u001b[39m, \u001b[38;5;124m'\u001b[39m\u001b[38;5;124mBob\u001b[39m\u001b[38;5;124m'\u001b[39m, \u001b[38;5;124m'\u001b[39m\u001b[38;5;124mBerry\u001b[39m\u001b[38;5;124m'\u001b[39m, \u001b[38;5;124m'\u001b[39m\u001b[38;5;124mBertha\u001b[39m\u001b[38;5;124m'\u001b[39m\u001b[38;5;124m'\u001b[39m\u001b[38;5;124mBob\u001b[39m\u001b[38;5;124m'\u001b[39m, \u001b[38;5;124m'\u001b[39m\u001b[38;5;124mBert\u001b[39m\u001b[38;5;124m'\u001b[39m]\n\u001b[1;32m      3\u001b[0m \u001b[38;5;28;01mfor\u001b[39;00m i \u001b[38;5;129;01min\u001b[39;00m \u001b[38;5;28mrange\u001b[39m(\u001b[38;5;28mlen\u001b[39m(names)):\n\u001b[0;32m----> 4\u001b[0m     \u001b[38;5;28;01mif\u001b[39;00m \u001b[43mnames\u001b[49m\u001b[43m[\u001b[49m\u001b[43mi\u001b[49m\u001b[43m]\u001b[49m \u001b[38;5;241m==\u001b[39m \u001b[38;5;124m\"\u001b[39m\u001b[38;5;124mBob\u001b[39m\u001b[38;5;124m\"\u001b[39m:\n\u001b[1;32m      5\u001b[0m         names\u001b[38;5;241m.\u001b[39mremove(names[i])\n\u001b[1;32m      6\u001b[0m \u001b[38;5;28mprint\u001b[39m(names)\n",
      "\u001b[0;31mIndexError\u001b[0m: list index out of range"
     ]
    }
   ],
   "source": [
    "names = ['Bob', 'Billy'' Bob', 'Bob', 'Berry', 'Bertha''Bob', 'Bert']\n",
    "\n",
    "for i in range(len(names)):\n",
    "    if names[i] == \"Bob\":\n",
    "        names.remove(names[i])\n",
    "print(names)"
   ]
  },
  {
   "cell_type": "code",
   "execution_count": null,
   "metadata": {},
   "outputs": [],
   "source": []
  },
  {
   "cell_type": "markdown",
   "metadata": {},
   "source": [
    "### Working With Lists"
   ]
  },
  {
   "cell_type": "markdown",
   "metadata": {},
   "source": [
    "##### del()"
   ]
  },
  {
   "cell_type": "code",
   "execution_count": 104,
   "metadata": {},
   "outputs": [
    {
     "name": "stdout",
     "output_type": "stream",
     "text": [
      "['Billy', ' Bob', 'Bob', 'Berry', 'Bertha', 'Bob', 'Bert']\n"
     ]
    }
   ],
   "source": [
    "#index to be removed, not value\n",
    "# this can cause indexing errors\n",
    "\n",
    "names = ['Bob', 'Billy',' Bob', 'Bob', 'Berry', 'Bertha', 'Bob', 'Bert']\n",
    "del(names[0])\n",
    "print(names)"
   ]
  },
  {
   "cell_type": "markdown",
   "metadata": {},
   "source": [
    "##### min()"
   ]
  },
  {
   "cell_type": "code",
   "execution_count": 110,
   "metadata": {},
   "outputs": [
    {
     "name": "stdout",
     "output_type": "stream",
     "text": [
      "1\n",
      "Alfonso\n"
     ]
    }
   ],
   "source": [
    "#returns the smallest items in a list\n",
    "numbers = [1,2,3,4,56]\n",
    "print(min(numbers))\n",
    "\n",
    "names = ['Alfonso', 'Gilbert', 'Zorph', 'aname']\n",
    "print(min(names))"
   ]
  },
  {
   "cell_type": "markdown",
   "metadata": {},
   "source": [
    "##### max()"
   ]
  },
  {
   "cell_type": "code",
   "execution_count": 111,
   "metadata": {},
   "outputs": [
    {
     "name": "stdout",
     "output_type": "stream",
     "text": [
      "1000001\n",
      "aname\n"
     ]
    }
   ],
   "source": [
    "#returns the largest items in a list\n",
    "numbers = [23,45,63,12,43,1000001]\n",
    "print(max(numbers))\n",
    "\n",
    "names = ['Alfonso', 'Gilbert', 'Zorph', 'aname']\n",
    "print(max(names))"
   ]
  },
  {
   "cell_type": "markdown",
   "metadata": {},
   "source": [
    "##### sum()"
   ]
  },
  {
   "cell_type": "code",
   "execution_count": 112,
   "metadata": {},
   "outputs": [
    {
     "name": "stdout",
     "output_type": "stream",
     "text": [
      "66\n"
     ]
    }
   ],
   "source": [
    "#returns the sum of all number in a list\n",
    "\n",
    "numbers = [1,2,3,4,56]\n",
    "print(sum(numbers))"
   ]
  },
  {
   "cell_type": "markdown",
   "metadata": {},
   "source": [
    "##### sorted()"
   ]
  },
  {
   "cell_type": "code",
   "execution_count": 113,
   "metadata": {},
   "outputs": [
    {
     "name": "stdout",
     "output_type": "stream",
     "text": [
      "[1, 3, 5, 6, 9, 12, 17, 20]\n"
     ]
    }
   ],
   "source": [
    "numbers = [5,1,17,12,9,6,20,3]\n",
    "\n",
    "sorted_nums = sorted(numbers)\n",
    "print(sorted_nums)"
   ]
  },
  {
   "cell_type": "markdown",
   "metadata": {},
   "source": [
    "##### .sort() <br>\n",
    "<p>Difference between sort and sorted, is that sorted doesn't change original list it returns a copy, while .sort changes the original list</p>"
   ]
  },
  {
   "cell_type": "code",
   "execution_count": 115,
   "metadata": {
    "scrolled": true
   },
   "outputs": [
    {
     "name": "stdout",
     "output_type": "stream",
     "text": [
      "[1, 3, 5, 6, 9, 12, 17, 20]\n"
     ]
    }
   ],
   "source": [
    "numbers.sort()\n",
    "print(numbers)"
   ]
  },
  {
   "cell_type": "markdown",
   "metadata": {},
   "source": [
    "##### Copying a List"
   ]
  },
  {
   "cell_type": "code",
   "execution_count": 72,
   "metadata": {},
   "outputs": [
    {
     "name": "stdout",
     "output_type": "stream",
     "text": [
      "[3, 6, 1, 5, 10, -12]\n",
      "[3, 6, 1, 5, 10, -12]\n"
     ]
    }
   ],
   "source": [
    "#[:] copy a lsit , doesn't salter the original list\n",
    "numbers = [3,6,1,5,10,-12]\n",
    "new_list = numbers[:]\n",
    "print(new_list)"
   ]
  },
  {
   "cell_type": "markdown",
   "metadata": {},
   "source": [
    "##### Looping Through Lists"
   ]
  },
  {
   "cell_type": "code",
   "execution_count": 133,
   "metadata": {
    "scrolled": true
   },
   "outputs": [
    {
     "name": "stdout",
     "output_type": "stream",
     "text": [
      "Han Solo\n",
      "Leia Organa\n",
      "Luke Skywalker\n",
      "Lando Calrissian\n",
      "Mace Windu\n",
      "\n",
      "\n",
      "Han Solo\n",
      "Han Solo\n",
      "Leia Organa\n",
      "Luke Skywalker\n",
      "Lando Calrissian\n",
      "Mace Windu\n",
      "\n",
      "\n",
      "Leia Organa\n",
      "\n",
      "\n",
      "0 Han Solo\n",
      "1 Leia Organa\n",
      "2 Luke Skywalker\n",
      "3 Lando Calrissian\n",
      "4 Mace Windu\n",
      "\n",
      "\n",
      "4\n"
     ]
    }
   ],
   "source": [
    "#Looping by value\n",
    "names = [\"Han Solo\", \"Leia Organa\", \"Luke Skywalker\", \"Lando Calrissian\", \"Mace Windu\"]\n",
    "for name in names:\n",
    "    print(name)\n",
    "print(\"\\n\")\n",
    "for name in names:\n",
    "    if name == \"Han Solo\":\n",
    "        print(name)\n",
    "\n",
    "    \n",
    "    #Looping by index\n",
    "for i in range(len(names)):\n",
    "    print(names[i])\n",
    "    \n",
    "print(\"\\n\")\n",
    "\n",
    "for i in range(len(names)):\n",
    "    if names[i] == \"Leia Organa\":\n",
    "        print(names[i])\n",
    "print(\"\\n\")\n",
    "        \n",
    "        #enumerate\n",
    "for i,v in enumerate(names):\n",
    "    print(i,v)\n",
    "print(\"\\n\")\n",
    "\n",
    "for i,v in enumerate(names):\n",
    "    if v== \"Mace Windu\":\n",
    "        print(i)\n",
    "    "
   ]
  },
  {
   "cell_type": "code",
   "execution_count": 126,
   "metadata": {},
   "outputs": [],
   "source": [
    "names = [\"Han Solo\", \"Leia Organa\", \"Luke Skywalker\", \"Lando Calrissian\", \"Mace Windu\"]\n",
    "\n",
    "# for name in names:\n",
    "#     for letter in name:\n",
    "#         print(letter)"
   ]
  },
  {
   "cell_type": "markdown",
   "metadata": {},
   "source": [
    "##### 'in' keyword"
   ]
  },
  {
   "cell_type": "code",
   "execution_count": 129,
   "metadata": {},
   "outputs": [
    {
     "name": "stdout",
     "output_type": "stream",
     "text": [
      "Ranger\n",
      "Great job being a ranger Frederick\n"
     ]
    }
   ],
   "source": [
    "#specifiying list that we are iterating through\n",
    "names = [\"Alex\", \"Abdel\", \"Swan\", \"Ethan\", \"Hyun-Tae\"]\n",
    "if \"Ethan\" in names:\n",
    "    print(\"Ranger\")\n",
    "else:\n",
    "    print(\"not a ranger\")\n",
    "    \n",
    "    \n"
   ]
  },
  {
   "cell_type": "code",
   "execution_count": 87,
   "metadata": {},
   "outputs": [
    {
     "name": "stdout",
     "output_type": "stream",
     "text": [
      "nope\n",
      "nope\n",
      "Tenzin\n",
      "nope\n",
      "nope\n",
      "nope\n"
     ]
    }
   ],
   "source": []
  },
  {
   "cell_type": "code",
   "execution_count": 91,
   "metadata": {},
   "outputs": [
    {
     "ename": "IndentationError",
     "evalue": "expected an indented block (2703666223.py, line 3)",
     "output_type": "error",
     "traceback": [
      "\u001b[1;36m  Input \u001b[1;32mIn [91]\u001b[1;36m\u001b[0m\n\u001b[1;33m    #         print(names[i][j])\u001b[0m\n\u001b[1;37m                                ^\u001b[0m\n\u001b[1;31mIndentationError\u001b[0m\u001b[1;31m:\u001b[0m expected an indented block\n"
     ]
    }
   ],
   "source": []
  },
  {
   "cell_type": "code",
   "execution_count": null,
   "metadata": {},
   "outputs": [],
   "source": []
  },
  {
   "cell_type": "markdown",
   "metadata": {},
   "source": [
    "##### 'not in' keyword"
   ]
  },
  {
   "cell_type": "code",
   "execution_count": 130,
   "metadata": {},
   "outputs": [
    {
     "name": "stdout",
     "output_type": "stream",
     "text": [
      "boo not a ranger\n"
     ]
    }
   ],
   "source": [
    "names = [\"Alex\", \"Abdel\", \"Swan\", \"Ethan\", \"Hyun-Tae\"]\n",
    "if \"Frederick\" not in names:\n",
    "    print(\"boo not a ranger\")\n",
    "else:\n",
    "    print(\"Great job being a ranger Frederick\")"
   ]
  },
  {
   "cell_type": "markdown",
   "metadata": {},
   "source": [
    "##### Checking an Empty List"
   ]
  },
  {
   "cell_type": "code",
   "execution_count": 131,
   "metadata": {},
   "outputs": [
    {
     "name": "stdout",
     "output_type": "stream",
     "text": [
      "welp thats empty\n"
     ]
    }
   ],
   "source": [
    "our_list = []\n",
    "\n",
    "if our_list == []:\n",
    "    print(\"welp thats empty\")\n",
    "else:\n",
    "    print(\"there is stuff in there\")"
   ]
  },
  {
   "cell_type": "markdown",
   "metadata": {},
   "source": [
    "##### Removing Instances with a Loop"
   ]
  },
  {
   "cell_type": "code",
   "execution_count": 132,
   "metadata": {},
   "outputs": [
    {
     "name": "stdout",
     "output_type": "stream",
     "text": [
      "['Abdel', 'Swan', 'Ethan', 'Hyun-Tae']\n"
     ]
    }
   ],
   "source": [
    "names = [\"Alex\", \"Abdel\", \"Swan\", \"Ethan\", \"Hyun-Tae\"]\n",
    "# recommended \n",
    "while \"Alex\" in names:\n",
    "    names.remove('Alex')\n",
    "print(names)"
   ]
  },
  {
   "cell_type": "markdown",
   "metadata": {},
   "source": [
    "### List Exercise <br>\n",
    "<p>Remove all duplicates<br><b>Extra: Create a program that will remove any duplicates from a given list</b></p>"
   ]
  },
  {
   "cell_type": "code",
   "execution_count": 144,
   "metadata": {},
   "outputs": [
    {
     "name": "stdout",
     "output_type": "stream",
     "text": [
      "['connor', 'bob', 'evan', 'max', 2, 3, 4, 'kevin']\n",
      "['connor', 'max', 'evan', 2, 3, 4, 'bob', 'kevin']\n"
     ]
    }
   ],
   "source": [
    "names = ['connor', 'connor', 'bob', 'connor', 'evan', 'max', 'evan', 2, 2, 2, 3, 3, 4, 'bob', 'kevin']\n",
    "#hint 1: you might need an append\n",
    "#hint 2: you might need an empty list\n",
    "#hing 3 you are actully removing\n",
    "\n",
    "new_list = []\n",
    "for i in range(len(names)):\n",
    "    if names[i]not in new_list:\n",
    "        new_list.append(names[i])\n",
    "print(new_list)\n",
    "        \n",
    "my_dup = []\n",
    "i = 0\n",
    "\n",
    "while i < len(names):\n",
    "    if names[i] not in my_dup:\n",
    "        my_dup.append(names[i])\n",
    "        i += 1\n",
    "    else: \n",
    "        names.remove(names[i])\n",
    "print(names)\n",
    "            "
   ]
  },
  {
   "cell_type": "code",
   "execution_count": 99,
   "metadata": {},
   "outputs": [
    {
     "name": "stdout",
     "output_type": "stream",
     "text": [
      "['connor', 'bob', 'evan', 'max', 2, 3, 4, 'kevin']\n"
     ]
    }
   ],
   "source": []
  },
  {
   "cell_type": "code",
   "execution_count": 100,
   "metadata": {},
   "outputs": [
    {
     "name": "stdout",
     "output_type": "stream",
     "text": [
      "tucker sam deliah connor bob evan max 2 3 4 kevin "
     ]
    }
   ],
   "source": []
  },
  {
   "cell_type": "code",
   "execution_count": 103,
   "metadata": {},
   "outputs": [
    {
     "name": "stdout",
     "output_type": "stream",
     "text": [
      "['connor', 'bob', 'evan', 'max', 2, 3, 4, 'kevin']\n"
     ]
    }
   ],
   "source": []
  },
  {
   "cell_type": "code",
   "execution_count": 107,
   "metadata": {},
   "outputs": [
    {
     "name": "stdout",
     "output_type": "stream",
     "text": [
      "['connor', 'bob', 'evan', 'max', 2, 3, 4, 'kevin']\n"
     ]
    }
   ],
   "source": []
  },
  {
   "cell_type": "code",
   "execution_count": null,
   "metadata": {},
   "outputs": [],
   "source": []
  },
  {
   "cell_type": "code",
   "execution_count": 108,
   "metadata": {},
   "outputs": [
    {
     "name": "stdout",
     "output_type": "stream",
     "text": [
      "['connor', 'max', 'evan', 2, 3, 4, 'bob', 'kevin']\n"
     ]
    }
   ],
   "source": []
  },
  {
   "cell_type": "markdown",
   "metadata": {},
   "source": [
    "### List Comprehensions <br>\n",
    "<p>Creating a quickly generated list to work with<br>*result*  = [*transform*    *iteration*         *filter*     ]</p>"
   ]
  },
  {
   "cell_type": "markdown",
   "metadata": {},
   "source": [
    "##### In a list comprehension we have a few pieces:\n",
    "1. The first is the counter/ variable - IN this the variable is x\n",
    "2. then we have a transform for the variable\n",
    "3. The finale part of a list comp is called the condition\n",
    "\n",
    "```python\n",
    "    [transform, iteration/variable, condition]\n",
    "```"
   ]
  },
  {
   "cell_type": "code",
   "execution_count": 143,
   "metadata": {
    "scrolled": true
   },
   "outputs": [
    {
     "name": "stdout",
     "output_type": "stream",
     "text": [
      "[4, 16, 36, 64, 100]\n",
      "[4, 16, 36, 64, 100]\n",
      "[4, 16, 36, 64, 100]\n"
     ]
    }
   ],
   "source": [
    "nums = [2,4,6,8,10]\n",
    "nums_squared = []\n",
    "\n",
    "#for loop way\n",
    "for num in nums:\n",
    "    nums_squared.append(num**2)\n",
    "print(nums_squared)\n",
    "\n",
    "# list comprehension way\n",
    "num_squared = [num**2 for num in nums]\n",
    "print(num_squared)\n",
    "\n",
    "#list comprehension with conditional \n",
    "more_squared = [num**2 for num in nums if num%2 ==0]\n",
    "print(more_squared)"
   ]
  },
  {
   "cell_type": "markdown",
   "metadata": {},
   "source": [
    "There are a few benefits to using List comprehensions. The most obvious would be that we now have shorter code to work with instead of using 3+ lines of code in the for loop variant.\n",
    "\n",
    "Another is an added benefit to memory usage. Since the list's memory is allocated first before adding elements to it, we don't have to resize the list once we add elements to it.\n",
    "\n",
    "Lastly, list comprehensions are considered the \"pythonic\" way to write code by the PEP8 standards (Python Style Guide)"
   ]
  },
  {
   "cell_type": "code",
   "execution_count": 148,
   "metadata": {
    "scrolled": true
   },
   "outputs": [
    {
     "name": "stdout",
     "output_type": "stream",
     "text": [
      "['h', 'l', 'a', 'j', 'p', 'p']\n"
     ]
    }
   ],
   "source": [
    "pets=['elliot', 'eyo', 'henri', 'lucy', 'eyeball', 'astro', 'jimmy','pi','penny']\n",
    "letter_names = [name[0] for name in pets if name[0]!='e']\n",
    "\n",
    "print(letter_names)"
   ]
  },
  {
   "cell_type": "code",
   "execution_count": 121,
   "metadata": {},
   "outputs": [
    {
     "name": "stdout",
     "output_type": "stream",
     "text": [
      "['sam', 'sean']\n",
      "['sam', 'sean']\n"
     ]
    }
   ],
   "source": []
  },
  {
   "cell_type": "code",
   "execution_count": 122,
   "metadata": {},
   "outputs": [
    {
     "name": "stdout",
     "output_type": "stream",
     "text": [
      "[0, 1, 4, 3, 16, 5, 36, 7, 64, 9]\n"
     ]
    }
   ],
   "source": []
  },
  {
   "cell_type": "code",
   "execution_count": 123,
   "metadata": {},
   "outputs": [
    {
     "name": "stdout",
     "output_type": "stream",
     "text": [
      "[0, 1, 4, 3, 16, 125, 36, 7, 64, 9]\n"
     ]
    }
   ],
   "source": []
  },
  {
   "cell_type": "markdown",
   "metadata": {},
   "source": [
    "### Tuples <br>\n",
    "<p><b>Defined as an immutable list</b></p><br>Seperated by commas using parenthesis"
   ]
  },
  {
   "cell_type": "code",
   "execution_count": 156,
   "metadata": {},
   "outputs": [
    {
     "name": "stdout",
     "output_type": "stream",
     "text": [
      "(1, 2, 3)\n",
      "(4, 5, 6)\n",
      "<class 'tuple'>\n",
      "1\n",
      "5\n",
      "tuple legth 3\n",
      "1\n",
      "2\n",
      "3\n",
      "4\n",
      "5\n",
      "6\n"
     ]
    }
   ],
   "source": [
    "#declaring tuples\n",
    "tup_1 = (1,2,3)\n",
    "tup_2 = 4,5,6\n",
    "\n",
    "print(tup_1)\n",
    "print(tup_2)\n",
    "\n",
    "print(type(tup_1))\n",
    "\n",
    "#indexing in to a tuple\n",
    "print(tup_1[0])\n",
    "print(tup_2[1])\n",
    "\n",
    "#length of a tuple\n",
    "print(\"tuple legth\", len(tup_2))\n",
    "\n",
    "#iterating through a tuple\n",
    "for num in tup_1:\n",
    "    print(num)\n",
    "    \n",
    "for i in range(len(tup_2)):\n",
    "    print(tup_2[i])\n",
    "\n",
    "\n"
   ]
  },
  {
   "cell_type": "markdown",
   "metadata": {},
   "source": [
    "##### sorted()"
   ]
  },
  {
   "cell_type": "code",
   "execution_count": 158,
   "metadata": {},
   "outputs": [
    {
     "name": "stdout",
     "output_type": "stream",
     "text": [
      "[1, 5, 10, 20, 95, 123]\n",
      "(1, 5, 10, 20, 95, 123)\n",
      "(5, 12, 654, 234, 7643, 34, 20, 5, 1, 10, 95, 123)\n"
     ]
    }
   ],
   "source": [
    "tup = (20, 5, 1, 10, 95, 123)\n",
    "\n",
    "print(sorted(tup))\n",
    "print(tuple(sorted(tup)))\n",
    "\n",
    "some_list = [5, 12, 654, 234, 65, 12]\n",
    "\n",
    "#doesnot work: combine_list = some_list + tup\n",
    "\n",
    "new_tup = tuple(some_list)\n",
    "\n",
    "new_new_tup = new_tup + tup\n",
    "print(new_new_tup)\n",
    "\n",
    "\n"
   ]
  },
  {
   "cell_type": "code",
   "execution_count": 149,
   "metadata": {},
   "outputs": [
    {
     "name": "stdout",
     "output_type": "stream",
     "text": [
      "[1, 2, 3, 4, 5, 2, 3, 4, 5, 13, 12, 16, 1234]\n"
     ]
    }
   ],
   "source": [
    "# List Concatenation\n",
    "\n",
    "my_list = [1, 2, 3, 4, 5]\n",
    "my_list2 = [2, 3, 4, 5, 13, 12, 16, 1234]\n",
    "\n",
    "my_list3 = my_list + my_list2\n",
    "\n",
    "print(my_list3)"
   ]
  },
  {
   "cell_type": "markdown",
   "metadata": {},
   "source": [
    "##### Adding values to a Tuple"
   ]
  },
  {
   "cell_type": "code",
   "execution_count": 157,
   "metadata": {},
   "outputs": [
    {
     "name": "stdout",
     "output_type": "stream",
     "text": [
      "(20, 54, 60, 23, 11)\n",
      "()\n",
      "(20, 54, 60, 23, 11, 6)\n"
     ]
    }
   ],
   "source": [
    "tup = (20,54,60,23,11)\n",
    "print(tup)\n",
    "\n",
    "my_tup = tuple()\n",
    "print(my_tup)\n",
    "#help(tuple)\n",
    "\n",
    "tup = tup + (6,)\n",
    "\n",
    "print(tup)"
   ]
  },
  {
   "cell_type": "markdown",
   "metadata": {},
   "source": [
    "# Exercises"
   ]
  },
  {
   "cell_type": "markdown",
   "metadata": {},
   "source": [
    "## Exercise 1 <br>\n",
    "<p>Using the given list, print out a filtered version of the list with only the numbers that are less than ten</b></i></p><br>\n"
   ]
  },
  {
   "cell_type": "code",
   "execution_count": 2,
   "metadata": {},
   "outputs": [
    {
     "name": "stdout",
     "output_type": "stream",
     "text": [
      "[1, 5, 8, 9]\n"
     ]
    }
   ],
   "source": [
    "alist = [1,11,14,5,8,9]\n",
    "\n",
    "filtered_version = [num for num in alist if num < 10]\n",
    "print(filtered_version)\n"
   ]
  },
  {
   "cell_type": "markdown",
   "metadata": {},
   "source": [
    "## Exercise 2 <br>\n",
    "<p>Merge and sort the two lists below<br>\n",
    "<b><i>Hint: You can use the .sort() method</i></b></p>"
   ]
  },
  {
   "cell_type": "code",
   "execution_count": 18,
   "metadata": {},
   "outputs": [
    {
     "name": "stdout",
     "output_type": "stream",
     "text": [
      "[1, 2, 3, 3, 4, 4, 5, 5, 6, 6, 7, 8, 10]\n"
     ]
    }
   ],
   "source": [
    "\n",
    "l_1 = [1,2,3,4,5,6]\n",
    "l_2 = [3,4,5,6,7,8,10]\n",
    "\n",
    "merge_list = []\n",
    "merge_list = l_1 + l_2\n",
    "merge_list.sort()\n",
    "print(merge_list)\n",
    "\n"
   ]
  },
  {
   "cell_type": "markdown",
   "metadata": {},
   "source": [
    "## Exercise 3 <br>\n",
    "<p>Square every number from 1 to 15<br>\n"
   ]
  },
  {
   "cell_type": "code",
   "execution_count": 29,
   "metadata": {
    "scrolled": true
   },
   "outputs": [
    {
     "name": "stdout",
     "output_type": "stream",
     "text": [
      "1\n",
      "4\n",
      "9\n",
      "16\n",
      "25\n",
      "36\n",
      "49\n",
      "64\n",
      "81\n",
      "100\n",
      "121\n",
      "144\n",
      "169\n",
      "196\n",
      "225\n"
     ]
    }
   ],
   "source": [
    "for num in range(1,16):\n",
    "    squared_num = pow(num,2)\n",
    "    print(squared_num)\n",
    "\n"
   ]
  },
  {
   "cell_type": "markdown",
   "metadata": {},
   "source": [
    "## Exercise 4<br>\n",
    "<p>Using List Comprehension and the given list, print out a filtered list with \n",
    "only the names that start with the letter 'a'. \n",
    "The names in the outputted list should be title cased and have no whitespace.<br>\n"
   ]
  },
  {
   "cell_type": "code",
   "execution_count": 62,
   "metadata": {},
   "outputs": [
    {
     "name": "stdout",
     "output_type": "stream",
     "text": [
      "['Amy', 'Alex']\n"
     ]
    }
   ],
   "source": [
    "names_list = ['   amy', 'Briant', 'Ryan ', ' Alex', 'steve', '  ']\n",
    "#expected output = ['Amy', 'Alex']\n",
    "\n",
    "strip_space = [name.lstrip().rstrip().title() for name in names_list]\n",
    "remove_empty = [name for name in strip_space if bool(name)== True]\n",
    "filter_a = [name for name in remove_empty if name[0]=='A']\n",
    "print(filter_a)\n"
   ]
  },
  {
   "cell_type": "markdown",
   "metadata": {},
   "source": [
    "## Exercise 5 <br>\n",
    "<p>Print all Prime numbers from 1 to 100<br>\n"
   ]
  },
  {
   "cell_type": "code",
   "execution_count": 19,
   "metadata": {},
   "outputs": [
    {
     "name": "stdout",
     "output_type": "stream",
     "text": [
      "2\n",
      "3\n",
      "5\n",
      "7\n",
      "11\n",
      "13\n",
      "17\n",
      "19\n",
      "23\n",
      "29\n",
      "31\n",
      "37\n",
      "41\n",
      "43\n",
      "47\n",
      "53\n",
      "59\n",
      "61\n",
      "67\n",
      "71\n",
      "73\n",
      "77\n",
      "79\n",
      "83\n",
      "89\n",
      "91\n",
      "97\n"
     ]
    }
   ],
   "source": [
    "for num in range(1,101):\n",
    "     \n",
    "    if num == 1:\n",
    "        continue\n",
    "    elif num % 2 == 0 and  num/2 > 1:\n",
    "        continue\n",
    "    elif num% 3 == 0 and num/3 > 1:\n",
    "        continue\n",
    "    elif num% 5 == 0 and num/5 > 1:\n",
    "        continue\n",
    "    elif num**.5 - int(num**.5)==0:\n",
    "        continue\n",
    "    else:\n",
    "        print(num)\n",
    "    \n",
    "    "
   ]
  },
  {
   "cell_type": "code",
   "execution_count": 93,
   "metadata": {},
   "outputs": [
    {
     "name": "stdout",
     "output_type": "stream",
     "text": [
      "[2, 10, 12]\n"
     ]
    }
   ],
   "source": [
    "\n",
    "def even_num(arr):\n",
    "    new_list = []\n",
    "    for num in arr:\n",
    "        if num%2 == 0:\n",
    "            new_list.append(num)\n",
    "    return new_list\n",
    "        \n",
    "print(even_num([2,7,10,11,12]))\n"
   ]
  },
  {
   "cell_type": "code",
   "execution_count": null,
   "metadata": {},
   "outputs": [],
   "source": []
  }
 ],
 "metadata": {
  "kernelspec": {
   "display_name": "Python 3 (ipykernel)",
   "language": "python",
   "name": "python3"
  },
  "language_info": {
   "codemirror_mode": {
    "name": "ipython",
    "version": 3
   },
   "file_extension": ".py",
   "mimetype": "text/x-python",
   "name": "python",
   "nbconvert_exporter": "python",
   "pygments_lexer": "ipython3",
   "version": "3.10.10"
  }
 },
 "nbformat": 4,
 "nbformat_minor": 2
}
